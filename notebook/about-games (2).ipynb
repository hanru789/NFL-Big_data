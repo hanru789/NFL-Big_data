{
 "cells": [
  {
   "cell_type": "code",
   "execution_count": 1,
   "id": "1cb5961d",
   "metadata": {
    "_cell_guid": "b1076dfc-b9ad-4769-8c92-a6c4dae69d19",
    "_uuid": "8f2839f25d086af736a60e9eeb907d3b93b6e0e5",
    "execution": {
     "iopub.execute_input": "2024-12-02T00:04:58.951748Z",
     "iopub.status.busy": "2024-12-02T00:04:58.951292Z",
     "iopub.status.idle": "2024-12-02T00:04:59.953770Z",
     "shell.execute_reply": "2024-12-02T00:04:59.952440Z"
    },
    "papermill": {
     "duration": 1.021649,
     "end_time": "2024-12-02T00:04:59.956481",
     "exception": false,
     "start_time": "2024-12-02T00:04:58.934832",
     "status": "completed"
    },
    "tags": []
   },
   "outputs": [
    {
     "name": "stdout",
     "output_type": "stream",
     "text": [
      "/kaggle/input/nfl-big-data-bowl-2025/players.csv\n",
      "/kaggle/input/nfl-big-data-bowl-2025/tracking_week_7.csv\n",
      "/kaggle/input/nfl-big-data-bowl-2025/tracking_week_9.csv\n",
      "/kaggle/input/nfl-big-data-bowl-2025/tracking_week_6.csv\n",
      "/kaggle/input/nfl-big-data-bowl-2025/games.csv\n",
      "/kaggle/input/nfl-big-data-bowl-2025/tracking_week_8.csv\n",
      "/kaggle/input/nfl-big-data-bowl-2025/player_play.csv\n",
      "/kaggle/input/nfl-big-data-bowl-2025/tracking_week_4.csv\n",
      "/kaggle/input/nfl-big-data-bowl-2025/tracking_week_3.csv\n",
      "/kaggle/input/nfl-big-data-bowl-2025/tracking_week_5.csv\n",
      "/kaggle/input/nfl-big-data-bowl-2025/tracking_week_1.csv\n",
      "/kaggle/input/nfl-big-data-bowl-2025/plays.csv\n",
      "/kaggle/input/nfl-big-data-bowl-2025/tracking_week_2.csv\n"
     ]
    }
   ],
   "source": [
    "# This Python 3 environment comes with many helpful analytics libraries installed\n",
    "# It is defined by the kaggle/python Docker image: https://github.com/kaggle/docker-python\n",
    "# For example, here's several helpful packages to load\n",
    "\n",
    "import numpy as np # linear algebra\n",
    "import pandas as pd # data processing, CSV file I/O (e.g. pd.read_csv)\n",
    "\n",
    "# Input data files are available in the read-only \"../input/\" directory\n",
    "# For example, running this (by clicking run or pressing Shift+Enter) will list all files under the input directory\n",
    "\n",
    "import os\n",
    "for dirname, _, filenames in os.walk('/kaggle/input'):\n",
    "    for filename in filenames:\n",
    "        print(os.path.join(dirname, filename))\n",
    "\n",
    "# You can write up to 20GB to the current directory (/kaggle/working/) that gets preserved as output when you create a version using \"Save & Run All\" \n",
    "# You can also write temporary files to /kaggle/temp/, but they won't be saved outside of the current session"
   ]
  },
  {
   "cell_type": "markdown",
   "id": "c246bcc7",
   "metadata": {
    "papermill": {
     "duration": 0.011577,
     "end_time": "2024-12-02T00:04:59.981803",
     "exception": false,
     "start_time": "2024-12-02T00:04:59.970226",
     "status": "completed"
    },
    "tags": []
   },
   "source": [
    "# Data Preprocesing"
   ]
  },
  {
   "cell_type": "code",
   "execution_count": 2,
   "id": "97386228",
   "metadata": {
    "execution": {
     "iopub.execute_input": "2024-12-02T00:05:00.008805Z",
     "iopub.status.busy": "2024-12-02T00:05:00.008160Z",
     "iopub.status.idle": "2024-12-02T00:05:01.852765Z",
     "shell.execute_reply": "2024-12-02T00:05:01.851633Z"
    },
    "papermill": {
     "duration": 1.861779,
     "end_time": "2024-12-02T00:05:01.855588",
     "exception": false,
     "start_time": "2024-12-02T00:04:59.993809",
     "status": "completed"
    },
    "tags": []
   },
   "outputs": [],
   "source": [
    "import matplotlib.pyplot as plt\n",
    "import seaborn as sns"
   ]
  },
  {
   "cell_type": "markdown",
   "id": "04baeb89",
   "metadata": {
    "papermill": {
     "duration": 0.01292,
     "end_time": "2024-12-02T00:05:01.881200",
     "exception": false,
     "start_time": "2024-12-02T00:05:01.868280",
     "status": "completed"
    },
    "tags": []
   },
   "source": [
    "## games.csv"
   ]
  },
  {
   "cell_type": "markdown",
   "id": "ecc7df9b",
   "metadata": {
    "papermill": {
     "duration": 0.011888,
     "end_time": "2024-12-02T00:05:01.905224",
     "exception": false,
     "start_time": "2024-12-02T00:05:01.893336",
     "status": "completed"
    },
    "tags": []
   },
   "source": [
    "### Assesing data"
   ]
  },
  {
   "cell_type": "code",
   "execution_count": 3,
   "id": "c6cd3ec6",
   "metadata": {
    "execution": {
     "iopub.execute_input": "2024-12-02T00:05:01.932921Z",
     "iopub.status.busy": "2024-12-02T00:05:01.931102Z",
     "iopub.status.idle": "2024-12-02T00:05:01.978300Z",
     "shell.execute_reply": "2024-12-02T00:05:01.976987Z"
    },
    "papermill": {
     "duration": 0.063537,
     "end_time": "2024-12-02T00:05:01.980887",
     "exception": false,
     "start_time": "2024-12-02T00:05:01.917350",
     "status": "completed"
    },
    "tags": []
   },
   "outputs": [
    {
     "name": "stdout",
     "output_type": "stream",
     "text": [
      "<class 'pandas.core.frame.DataFrame'>\n",
      "RangeIndex: 136 entries, 0 to 135\n",
      "Data columns (total 9 columns):\n",
      " #   Column             Non-Null Count  Dtype \n",
      "---  ------             --------------  ----- \n",
      " 0   gameId             136 non-null    int64 \n",
      " 1   season             136 non-null    int64 \n",
      " 2   week               136 non-null    int64 \n",
      " 3   gameDate           136 non-null    object\n",
      " 4   gameTimeEastern    136 non-null    object\n",
      " 5   homeTeamAbbr       136 non-null    object\n",
      " 6   visitorTeamAbbr    136 non-null    object\n",
      " 7   homeFinalScore     136 non-null    int64 \n",
      " 8   visitorFinalScore  136 non-null    int64 \n",
      "dtypes: int64(5), object(4)\n",
      "memory usage: 9.7+ KB\n"
     ]
    }
   ],
   "source": [
    "games_df = pd.read_csv('/kaggle/input/nfl-big-data-bowl-2025/games.csv')\n",
    "games_df.info()"
   ]
  },
  {
   "cell_type": "code",
   "execution_count": 4,
   "id": "c1a32fba",
   "metadata": {
    "execution": {
     "iopub.execute_input": "2024-12-02T00:05:02.008307Z",
     "iopub.status.busy": "2024-12-02T00:05:02.007848Z",
     "iopub.status.idle": "2024-12-02T00:05:02.051712Z",
     "shell.execute_reply": "2024-12-02T00:05:02.050320Z"
    },
    "papermill": {
     "duration": 0.060651,
     "end_time": "2024-12-02T00:05:02.054126",
     "exception": false,
     "start_time": "2024-12-02T00:05:01.993475",
     "status": "completed"
    },
    "tags": []
   },
   "outputs": [
    {
     "data": {
      "text/html": [
       "<div>\n",
       "<style scoped>\n",
       "    .dataframe tbody tr th:only-of-type {\n",
       "        vertical-align: middle;\n",
       "    }\n",
       "\n",
       "    .dataframe tbody tr th {\n",
       "        vertical-align: top;\n",
       "    }\n",
       "\n",
       "    .dataframe thead th {\n",
       "        text-align: right;\n",
       "    }\n",
       "</style>\n",
       "<table border=\"1\" class=\"dataframe\">\n",
       "  <thead>\n",
       "    <tr style=\"text-align: right;\">\n",
       "      <th></th>\n",
       "      <th>gameId</th>\n",
       "      <th>season</th>\n",
       "      <th>week</th>\n",
       "      <th>gameDate</th>\n",
       "      <th>gameTimeEastern</th>\n",
       "      <th>homeTeamAbbr</th>\n",
       "      <th>visitorTeamAbbr</th>\n",
       "      <th>homeFinalScore</th>\n",
       "      <th>visitorFinalScore</th>\n",
       "    </tr>\n",
       "  </thead>\n",
       "  <tbody>\n",
       "    <tr>\n",
       "      <th>count</th>\n",
       "      <td>1.360000e+02</td>\n",
       "      <td>136.0</td>\n",
       "      <td>136.000000</td>\n",
       "      <td>136</td>\n",
       "      <td>136</td>\n",
       "      <td>136</td>\n",
       "      <td>136</td>\n",
       "      <td>136.000000</td>\n",
       "      <td>136.000000</td>\n",
       "    </tr>\n",
       "    <tr>\n",
       "      <th>unique</th>\n",
       "      <td>NaN</td>\n",
       "      <td>NaN</td>\n",
       "      <td>NaN</td>\n",
       "      <td>27</td>\n",
       "      <td>8</td>\n",
       "      <td>32</td>\n",
       "      <td>32</td>\n",
       "      <td>NaN</td>\n",
       "      <td>NaN</td>\n",
       "    </tr>\n",
       "    <tr>\n",
       "      <th>top</th>\n",
       "      <td>NaN</td>\n",
       "      <td>NaN</td>\n",
       "      <td>NaN</td>\n",
       "      <td>10/9/2022</td>\n",
       "      <td>13:00:00</td>\n",
       "      <td>NO</td>\n",
       "      <td>BUF</td>\n",
       "      <td>NaN</td>\n",
       "      <td>NaN</td>\n",
       "    </tr>\n",
       "    <tr>\n",
       "      <th>freq</th>\n",
       "      <td>NaN</td>\n",
       "      <td>NaN</td>\n",
       "      <td>NaN</td>\n",
       "      <td>14</td>\n",
       "      <td>73</td>\n",
       "      <td>6</td>\n",
       "      <td>5</td>\n",
       "      <td>NaN</td>\n",
       "      <td>NaN</td>\n",
       "    </tr>\n",
       "    <tr>\n",
       "      <th>mean</th>\n",
       "      <td>2.022099e+09</td>\n",
       "      <td>2022.0</td>\n",
       "      <td>4.845588</td>\n",
       "      <td>NaN</td>\n",
       "      <td>NaN</td>\n",
       "      <td>NaN</td>\n",
       "      <td>NaN</td>\n",
       "      <td>22.669118</td>\n",
       "      <td>20.948529</td>\n",
       "    </tr>\n",
       "    <tr>\n",
       "      <th>std</th>\n",
       "      <td>5.996614e+03</td>\n",
       "      <td>0.0</td>\n",
       "      <td>2.567254</td>\n",
       "      <td>NaN</td>\n",
       "      <td>NaN</td>\n",
       "      <td>NaN</td>\n",
       "      <td>NaN</td>\n",
       "      <td>8.659874</td>\n",
       "      <td>9.731446</td>\n",
       "    </tr>\n",
       "    <tr>\n",
       "      <th>min</th>\n",
       "      <td>2.022091e+09</td>\n",
       "      <td>2022.0</td>\n",
       "      <td>1.000000</td>\n",
       "      <td>NaN</td>\n",
       "      <td>NaN</td>\n",
       "      <td>NaN</td>\n",
       "      <td>NaN</td>\n",
       "      <td>3.000000</td>\n",
       "      <td>0.000000</td>\n",
       "    </tr>\n",
       "    <tr>\n",
       "      <th>25%</th>\n",
       "      <td>2.022093e+09</td>\n",
       "      <td>2022.0</td>\n",
       "      <td>3.000000</td>\n",
       "      <td>NaN</td>\n",
       "      <td>NaN</td>\n",
       "      <td>NaN</td>\n",
       "      <td>NaN</td>\n",
       "      <td>17.000000</td>\n",
       "      <td>14.750000</td>\n",
       "    </tr>\n",
       "    <tr>\n",
       "      <th>50%</th>\n",
       "      <td>2.022101e+09</td>\n",
       "      <td>2022.0</td>\n",
       "      <td>5.000000</td>\n",
       "      <td>NaN</td>\n",
       "      <td>NaN</td>\n",
       "      <td>NaN</td>\n",
       "      <td>NaN</td>\n",
       "      <td>22.500000</td>\n",
       "      <td>20.000000</td>\n",
       "    </tr>\n",
       "    <tr>\n",
       "      <th>75%</th>\n",
       "      <td>2.022102e+09</td>\n",
       "      <td>2022.0</td>\n",
       "      <td>7.000000</td>\n",
       "      <td>NaN</td>\n",
       "      <td>NaN</td>\n",
       "      <td>NaN</td>\n",
       "      <td>NaN</td>\n",
       "      <td>27.000000</td>\n",
       "      <td>27.000000</td>\n",
       "    </tr>\n",
       "    <tr>\n",
       "      <th>max</th>\n",
       "      <td>2.022111e+09</td>\n",
       "      <td>2022.0</td>\n",
       "      <td>9.000000</td>\n",
       "      <td>NaN</td>\n",
       "      <td>NaN</td>\n",
       "      <td>NaN</td>\n",
       "      <td>NaN</td>\n",
       "      <td>49.000000</td>\n",
       "      <td>48.000000</td>\n",
       "    </tr>\n",
       "  </tbody>\n",
       "</table>\n",
       "</div>"
      ],
      "text/plain": [
       "              gameId  season        week   gameDate gameTimeEastern  \\\n",
       "count   1.360000e+02   136.0  136.000000        136             136   \n",
       "unique           NaN     NaN         NaN         27               8   \n",
       "top              NaN     NaN         NaN  10/9/2022        13:00:00   \n",
       "freq             NaN     NaN         NaN         14              73   \n",
       "mean    2.022099e+09  2022.0    4.845588        NaN             NaN   \n",
       "std     5.996614e+03     0.0    2.567254        NaN             NaN   \n",
       "min     2.022091e+09  2022.0    1.000000        NaN             NaN   \n",
       "25%     2.022093e+09  2022.0    3.000000        NaN             NaN   \n",
       "50%     2.022101e+09  2022.0    5.000000        NaN             NaN   \n",
       "75%     2.022102e+09  2022.0    7.000000        NaN             NaN   \n",
       "max     2.022111e+09  2022.0    9.000000        NaN             NaN   \n",
       "\n",
       "       homeTeamAbbr visitorTeamAbbr  homeFinalScore  visitorFinalScore  \n",
       "count           136             136      136.000000         136.000000  \n",
       "unique           32              32             NaN                NaN  \n",
       "top              NO             BUF             NaN                NaN  \n",
       "freq              6               5             NaN                NaN  \n",
       "mean            NaN             NaN       22.669118          20.948529  \n",
       "std             NaN             NaN        8.659874           9.731446  \n",
       "min             NaN             NaN        3.000000           0.000000  \n",
       "25%             NaN             NaN       17.000000          14.750000  \n",
       "50%             NaN             NaN       22.500000          20.000000  \n",
       "75%             NaN             NaN       27.000000          27.000000  \n",
       "max             NaN             NaN       49.000000          48.000000  "
      ]
     },
     "execution_count": 4,
     "metadata": {},
     "output_type": "execute_result"
    }
   ],
   "source": [
    "games_df.describe(include=\"all\")"
   ]
  },
  {
   "cell_type": "code",
   "execution_count": 5,
   "id": "c61f916f",
   "metadata": {
    "execution": {
     "iopub.execute_input": "2024-12-02T00:05:02.080602Z",
     "iopub.status.busy": "2024-12-02T00:05:02.080225Z",
     "iopub.status.idle": "2024-12-02T00:05:02.097521Z",
     "shell.execute_reply": "2024-12-02T00:05:02.096237Z"
    },
    "papermill": {
     "duration": 0.033416,
     "end_time": "2024-12-02T00:05:02.099666",
     "exception": false,
     "start_time": "2024-12-02T00:05:02.066250",
     "status": "completed"
    },
    "tags": []
   },
   "outputs": [
    {
     "data": {
      "text/html": [
       "<div>\n",
       "<style scoped>\n",
       "    .dataframe tbody tr th:only-of-type {\n",
       "        vertical-align: middle;\n",
       "    }\n",
       "\n",
       "    .dataframe tbody tr th {\n",
       "        vertical-align: top;\n",
       "    }\n",
       "\n",
       "    .dataframe thead th {\n",
       "        text-align: right;\n",
       "    }\n",
       "</style>\n",
       "<table border=\"1\" class=\"dataframe\">\n",
       "  <thead>\n",
       "    <tr style=\"text-align: right;\">\n",
       "      <th></th>\n",
       "      <th>gameId</th>\n",
       "      <th>season</th>\n",
       "      <th>week</th>\n",
       "      <th>gameDate</th>\n",
       "      <th>gameTimeEastern</th>\n",
       "      <th>homeTeamAbbr</th>\n",
       "      <th>visitorTeamAbbr</th>\n",
       "      <th>homeFinalScore</th>\n",
       "      <th>visitorFinalScore</th>\n",
       "    </tr>\n",
       "  </thead>\n",
       "  <tbody>\n",
       "    <tr>\n",
       "      <th>0</th>\n",
       "      <td>2022090800</td>\n",
       "      <td>2022</td>\n",
       "      <td>1</td>\n",
       "      <td>9/8/2022</td>\n",
       "      <td>20:20:00</td>\n",
       "      <td>LA</td>\n",
       "      <td>BUF</td>\n",
       "      <td>10</td>\n",
       "      <td>31</td>\n",
       "    </tr>\n",
       "    <tr>\n",
       "      <th>1</th>\n",
       "      <td>2022091100</td>\n",
       "      <td>2022</td>\n",
       "      <td>1</td>\n",
       "      <td>9/11/2022</td>\n",
       "      <td>13:00:00</td>\n",
       "      <td>ATL</td>\n",
       "      <td>NO</td>\n",
       "      <td>26</td>\n",
       "      <td>27</td>\n",
       "    </tr>\n",
       "    <tr>\n",
       "      <th>2</th>\n",
       "      <td>2022091101</td>\n",
       "      <td>2022</td>\n",
       "      <td>1</td>\n",
       "      <td>9/11/2022</td>\n",
       "      <td>13:00:00</td>\n",
       "      <td>CAR</td>\n",
       "      <td>CLE</td>\n",
       "      <td>24</td>\n",
       "      <td>26</td>\n",
       "    </tr>\n",
       "    <tr>\n",
       "      <th>3</th>\n",
       "      <td>2022091102</td>\n",
       "      <td>2022</td>\n",
       "      <td>1</td>\n",
       "      <td>9/11/2022</td>\n",
       "      <td>13:00:00</td>\n",
       "      <td>CHI</td>\n",
       "      <td>SF</td>\n",
       "      <td>19</td>\n",
       "      <td>10</td>\n",
       "    </tr>\n",
       "    <tr>\n",
       "      <th>4</th>\n",
       "      <td>2022091103</td>\n",
       "      <td>2022</td>\n",
       "      <td>1</td>\n",
       "      <td>9/11/2022</td>\n",
       "      <td>13:00:00</td>\n",
       "      <td>CIN</td>\n",
       "      <td>PIT</td>\n",
       "      <td>20</td>\n",
       "      <td>23</td>\n",
       "    </tr>\n",
       "    <tr>\n",
       "      <th>5</th>\n",
       "      <td>2022091104</td>\n",
       "      <td>2022</td>\n",
       "      <td>1</td>\n",
       "      <td>9/11/2022</td>\n",
       "      <td>13:00:00</td>\n",
       "      <td>DET</td>\n",
       "      <td>PHI</td>\n",
       "      <td>35</td>\n",
       "      <td>38</td>\n",
       "    </tr>\n",
       "    <tr>\n",
       "      <th>6</th>\n",
       "      <td>2022091105</td>\n",
       "      <td>2022</td>\n",
       "      <td>1</td>\n",
       "      <td>9/11/2022</td>\n",
       "      <td>13:00:00</td>\n",
       "      <td>HOU</td>\n",
       "      <td>IND</td>\n",
       "      <td>20</td>\n",
       "      <td>20</td>\n",
       "    </tr>\n",
       "    <tr>\n",
       "      <th>7</th>\n",
       "      <td>2022091106</td>\n",
       "      <td>2022</td>\n",
       "      <td>1</td>\n",
       "      <td>9/11/2022</td>\n",
       "      <td>13:00:00</td>\n",
       "      <td>MIA</td>\n",
       "      <td>NE</td>\n",
       "      <td>20</td>\n",
       "      <td>7</td>\n",
       "    </tr>\n",
       "    <tr>\n",
       "      <th>8</th>\n",
       "      <td>2022091107</td>\n",
       "      <td>2022</td>\n",
       "      <td>1</td>\n",
       "      <td>9/11/2022</td>\n",
       "      <td>13:00:00</td>\n",
       "      <td>NYJ</td>\n",
       "      <td>BAL</td>\n",
       "      <td>9</td>\n",
       "      <td>24</td>\n",
       "    </tr>\n",
       "    <tr>\n",
       "      <th>9</th>\n",
       "      <td>2022091109</td>\n",
       "      <td>2022</td>\n",
       "      <td>1</td>\n",
       "      <td>9/11/2022</td>\n",
       "      <td>13:00:00</td>\n",
       "      <td>WAS</td>\n",
       "      <td>JAX</td>\n",
       "      <td>28</td>\n",
       "      <td>22</td>\n",
       "    </tr>\n",
       "    <tr>\n",
       "      <th>10</th>\n",
       "      <td>2022091110</td>\n",
       "      <td>2022</td>\n",
       "      <td>1</td>\n",
       "      <td>9/11/2022</td>\n",
       "      <td>16:25:00</td>\n",
       "      <td>ARI</td>\n",
       "      <td>KC</td>\n",
       "      <td>21</td>\n",
       "      <td>44</td>\n",
       "    </tr>\n",
       "    <tr>\n",
       "      <th>11</th>\n",
       "      <td>2022091111</td>\n",
       "      <td>2022</td>\n",
       "      <td>1</td>\n",
       "      <td>9/11/2022</td>\n",
       "      <td>16:25:00</td>\n",
       "      <td>LAC</td>\n",
       "      <td>LV</td>\n",
       "      <td>24</td>\n",
       "      <td>19</td>\n",
       "    </tr>\n",
       "    <tr>\n",
       "      <th>12</th>\n",
       "      <td>2022091112</td>\n",
       "      <td>2022</td>\n",
       "      <td>1</td>\n",
       "      <td>9/11/2022</td>\n",
       "      <td>16:25:00</td>\n",
       "      <td>MIN</td>\n",
       "      <td>GB</td>\n",
       "      <td>23</td>\n",
       "      <td>7</td>\n",
       "    </tr>\n",
       "    <tr>\n",
       "      <th>13</th>\n",
       "      <td>2022091108</td>\n",
       "      <td>2022</td>\n",
       "      <td>1</td>\n",
       "      <td>9/11/2022</td>\n",
       "      <td>16:25:00</td>\n",
       "      <td>TEN</td>\n",
       "      <td>NYG</td>\n",
       "      <td>20</td>\n",
       "      <td>21</td>\n",
       "    </tr>\n",
       "    <tr>\n",
       "      <th>14</th>\n",
       "      <td>2022091113</td>\n",
       "      <td>2022</td>\n",
       "      <td>1</td>\n",
       "      <td>9/11/2022</td>\n",
       "      <td>20:20:00</td>\n",
       "      <td>DAL</td>\n",
       "      <td>TB</td>\n",
       "      <td>3</td>\n",
       "      <td>19</td>\n",
       "    </tr>\n",
       "    <tr>\n",
       "      <th>15</th>\n",
       "      <td>2022091200</td>\n",
       "      <td>2022</td>\n",
       "      <td>1</td>\n",
       "      <td>9/12/2022</td>\n",
       "      <td>20:15:00</td>\n",
       "      <td>SEA</td>\n",
       "      <td>DEN</td>\n",
       "      <td>17</td>\n",
       "      <td>16</td>\n",
       "    </tr>\n",
       "    <tr>\n",
       "      <th>16</th>\n",
       "      <td>2022091500</td>\n",
       "      <td>2022</td>\n",
       "      <td>2</td>\n",
       "      <td>9/15/2022</td>\n",
       "      <td>20:15:00</td>\n",
       "      <td>KC</td>\n",
       "      <td>LAC</td>\n",
       "      <td>27</td>\n",
       "      <td>24</td>\n",
       "    </tr>\n",
       "    <tr>\n",
       "      <th>17</th>\n",
       "      <td>2022091800</td>\n",
       "      <td>2022</td>\n",
       "      <td>2</td>\n",
       "      <td>9/18/2022</td>\n",
       "      <td>13:00:00</td>\n",
       "      <td>BAL</td>\n",
       "      <td>MIA</td>\n",
       "      <td>38</td>\n",
       "      <td>42</td>\n",
       "    </tr>\n",
       "    <tr>\n",
       "      <th>18</th>\n",
       "      <td>2022091801</td>\n",
       "      <td>2022</td>\n",
       "      <td>2</td>\n",
       "      <td>9/18/2022</td>\n",
       "      <td>13:00:00</td>\n",
       "      <td>CLE</td>\n",
       "      <td>NYJ</td>\n",
       "      <td>30</td>\n",
       "      <td>31</td>\n",
       "    </tr>\n",
       "    <tr>\n",
       "      <th>19</th>\n",
       "      <td>2022091802</td>\n",
       "      <td>2022</td>\n",
       "      <td>2</td>\n",
       "      <td>9/18/2022</td>\n",
       "      <td>13:00:00</td>\n",
       "      <td>DET</td>\n",
       "      <td>WAS</td>\n",
       "      <td>36</td>\n",
       "      <td>27</td>\n",
       "    </tr>\n",
       "  </tbody>\n",
       "</table>\n",
       "</div>"
      ],
      "text/plain": [
       "        gameId  season  week   gameDate gameTimeEastern homeTeamAbbr  \\\n",
       "0   2022090800    2022     1   9/8/2022        20:20:00           LA   \n",
       "1   2022091100    2022     1  9/11/2022        13:00:00          ATL   \n",
       "2   2022091101    2022     1  9/11/2022        13:00:00          CAR   \n",
       "3   2022091102    2022     1  9/11/2022        13:00:00          CHI   \n",
       "4   2022091103    2022     1  9/11/2022        13:00:00          CIN   \n",
       "5   2022091104    2022     1  9/11/2022        13:00:00          DET   \n",
       "6   2022091105    2022     1  9/11/2022        13:00:00          HOU   \n",
       "7   2022091106    2022     1  9/11/2022        13:00:00          MIA   \n",
       "8   2022091107    2022     1  9/11/2022        13:00:00          NYJ   \n",
       "9   2022091109    2022     1  9/11/2022        13:00:00          WAS   \n",
       "10  2022091110    2022     1  9/11/2022        16:25:00          ARI   \n",
       "11  2022091111    2022     1  9/11/2022        16:25:00          LAC   \n",
       "12  2022091112    2022     1  9/11/2022        16:25:00          MIN   \n",
       "13  2022091108    2022     1  9/11/2022        16:25:00          TEN   \n",
       "14  2022091113    2022     1  9/11/2022        20:20:00          DAL   \n",
       "15  2022091200    2022     1  9/12/2022        20:15:00          SEA   \n",
       "16  2022091500    2022     2  9/15/2022        20:15:00           KC   \n",
       "17  2022091800    2022     2  9/18/2022        13:00:00          BAL   \n",
       "18  2022091801    2022     2  9/18/2022        13:00:00          CLE   \n",
       "19  2022091802    2022     2  9/18/2022        13:00:00          DET   \n",
       "\n",
       "   visitorTeamAbbr  homeFinalScore  visitorFinalScore  \n",
       "0              BUF              10                 31  \n",
       "1               NO              26                 27  \n",
       "2              CLE              24                 26  \n",
       "3               SF              19                 10  \n",
       "4              PIT              20                 23  \n",
       "5              PHI              35                 38  \n",
       "6              IND              20                 20  \n",
       "7               NE              20                  7  \n",
       "8              BAL               9                 24  \n",
       "9              JAX              28                 22  \n",
       "10              KC              21                 44  \n",
       "11              LV              24                 19  \n",
       "12              GB              23                  7  \n",
       "13             NYG              20                 21  \n",
       "14              TB               3                 19  \n",
       "15             DEN              17                 16  \n",
       "16             LAC              27                 24  \n",
       "17             MIA              38                 42  \n",
       "18             NYJ              30                 31  \n",
       "19             WAS              36                 27  "
      ]
     },
     "execution_count": 5,
     "metadata": {},
     "output_type": "execute_result"
    }
   ],
   "source": [
    "games_df.head(20)"
   ]
  },
  {
   "cell_type": "code",
   "execution_count": 6,
   "id": "fa72333e",
   "metadata": {
    "execution": {
     "iopub.execute_input": "2024-12-02T00:05:02.126518Z",
     "iopub.status.busy": "2024-12-02T00:05:02.126146Z",
     "iopub.status.idle": "2024-12-02T00:05:02.135154Z",
     "shell.execute_reply": "2024-12-02T00:05:02.133988Z"
    },
    "papermill": {
     "duration": 0.025595,
     "end_time": "2024-12-02T00:05:02.137436",
     "exception": false,
     "start_time": "2024-12-02T00:05:02.111841",
     "status": "completed"
    },
    "tags": []
   },
   "outputs": [
    {
     "data": {
      "text/plain": [
       "gameId               0\n",
       "season               0\n",
       "week                 0\n",
       "gameDate             0\n",
       "gameTimeEastern      0\n",
       "homeTeamAbbr         0\n",
       "visitorTeamAbbr      0\n",
       "homeFinalScore       0\n",
       "visitorFinalScore    0\n",
       "dtype: int64"
      ]
     },
     "execution_count": 6,
     "metadata": {},
     "output_type": "execute_result"
    }
   ],
   "source": [
    "games_df.isna().sum()"
   ]
  },
  {
   "cell_type": "code",
   "execution_count": 7,
   "id": "c39bdde6",
   "metadata": {
    "execution": {
     "iopub.execute_input": "2024-12-02T00:05:02.165315Z",
     "iopub.status.busy": "2024-12-02T00:05:02.164461Z",
     "iopub.status.idle": "2024-12-02T00:05:02.173512Z",
     "shell.execute_reply": "2024-12-02T00:05:02.172375Z"
    },
    "papermill": {
     "duration": 0.025759,
     "end_time": "2024-12-02T00:05:02.176138",
     "exception": false,
     "start_time": "2024-12-02T00:05:02.150379",
     "status": "completed"
    },
    "tags": []
   },
   "outputs": [
    {
     "name": "stdout",
     "output_type": "stream",
     "text": [
      "Number of duplicate data:  0\n"
     ]
    }
   ],
   "source": [
    "print(\"Number of duplicate data: \", games_df.duplicated().sum())"
   ]
  },
  {
   "cell_type": "code",
   "execution_count": 8,
   "id": "56c08da2",
   "metadata": {
    "execution": {
     "iopub.execute_input": "2024-12-02T00:05:02.203224Z",
     "iopub.status.busy": "2024-12-02T00:05:02.202725Z",
     "iopub.status.idle": "2024-12-02T00:05:03.815914Z",
     "shell.execute_reply": "2024-12-02T00:05:03.814470Z"
    },
    "papermill": {
     "duration": 1.630209,
     "end_time": "2024-12-02T00:05:03.818959",
     "exception": false,
     "start_time": "2024-12-02T00:05:02.188750",
     "status": "completed"
    },
    "tags": []
   },
   "outputs": [
    {
     "data": {
      "image/png": "[encoded data removed]",
      "text/plain": [
       "<Figure size 1500x2000 with 6 Axes>"
      ]
     },
     "metadata": {},
     "output_type": "display_data"
    }
   ],
   "source": [
    "games_df.hist(bins=20, figsize=(15, 20))\n",
    "plt.tight_layout()\n",
    "plt.show()"
   ]
  },
  {
   "cell_type": "markdown",
   "id": "d68917eb",
   "metadata": {
    "papermill": {
     "duration": 0.013676,
     "end_time": "2024-12-02T00:05:03.846729",
     "exception": false,
     "start_time": "2024-12-02T00:05:03.833053",
     "status": "completed"
    },
    "tags": []
   },
   "source": [
    "**Insight:**\r\n",
    "- gameDate data type is still object\r\n",
    "- gameTimeEastern data type is still object\r\n",
    "- No missing values\r\n",
    "- No duplicated data\r\n",
    "- No winner column for each match\r\n",
    "- No loser column for each match\r\n",
    "- There needs to be a column containing match categories (fierce, so-so, far apart)"
   ]
  },
  {
   "cell_type": "markdown",
   "id": "a5914445",
   "metadata": {
    "papermill": {
     "duration": 0.013555,
     "end_time": "2024-12-02T00:05:03.874288",
     "exception": false,
     "start_time": "2024-12-02T00:05:03.860733",
     "status": "completed"
    },
    "tags": []
   },
   "source": [
    "### Cleaning and exploring the data"
   ]
  },
  {
   "cell_type": "markdown",
   "id": "4c65dca6",
   "metadata": {
    "papermill": {
     "duration": 0.013786,
     "end_time": "2024-12-02T00:05:03.901947",
     "exception": false,
     "start_time": "2024-12-02T00:05:03.888161",
     "status": "completed"
    },
    "tags": []
   },
   "source": [
    "Change the data type 'gameDate' to datetime"
   ]
  },
  {
   "cell_type": "code",
   "execution_count": 9,
   "id": "58825d3d",
   "metadata": {
    "execution": {
     "iopub.execute_input": "2024-12-02T00:05:03.933069Z",
     "iopub.status.busy": "2024-12-02T00:05:03.932575Z",
     "iopub.status.idle": "2024-12-02T00:05:03.945797Z",
     "shell.execute_reply": "2024-12-02T00:05:03.944625Z"
    },
    "papermill": {
     "duration": 0.031786,
     "end_time": "2024-12-02T00:05:03.948595",
     "exception": false,
     "start_time": "2024-12-02T00:05:03.916809",
     "status": "completed"
    },
    "tags": []
   },
   "outputs": [],
   "source": [
    "\n",
    "games_df['gameDate'] = pd.to_datetime(games_df['gameDate'])\n",
    "#games_df['gameTimeEastern'] = pd.to_datetime(games_df['gameTimeEastern'],format='%H:%M:%S').dt.time"
   ]
  },
  {
   "cell_type": "markdown",
   "id": "384637a8",
   "metadata": {
    "papermill": {
     "duration": 0.015909,
     "end_time": "2024-12-02T00:05:03.984694",
     "exception": false,
     "start_time": "2024-12-02T00:05:03.968785",
     "status": "completed"
    },
    "tags": []
   },
   "source": [
    "Added match winner and loser columns"
   ]
  },
  {
   "cell_type": "code",
   "execution_count": 10,
   "id": "38d56942",
   "metadata": {
    "execution": {
     "iopub.execute_input": "2024-12-02T00:05:04.018481Z",
     "iopub.status.busy": "2024-12-02T00:05:04.017086Z",
     "iopub.status.idle": "2024-12-02T00:05:04.028624Z",
     "shell.execute_reply": "2024-12-02T00:05:04.027295Z"
    },
    "papermill": {
     "duration": 0.030927,
     "end_time": "2024-12-02T00:05:04.031175",
     "exception": false,
     "start_time": "2024-12-02T00:05:04.000248",
     "status": "completed"
    },
    "tags": []
   },
   "outputs": [],
   "source": [
    "games_df['win']= games_df.apply(\n",
    "    lambda row: row['homeTeamAbbr'] if row['homeFinalScore'] > row['visitorFinalScore']\n",
    "    else row['visitorTeamAbbr'] if row['homeFinalScore'] < row['visitorFinalScore'] else \"none\",\n",
    "    axis=1\n",
    ")"
   ]
  },
  {
   "cell_type": "code",
   "execution_count": 11,
   "id": "443f9ce2",
   "metadata": {
    "execution": {
     "iopub.execute_input": "2024-12-02T00:05:04.063871Z",
     "iopub.status.busy": "2024-12-02T00:05:04.063325Z",
     "iopub.status.idle": "2024-12-02T00:05:04.077401Z",
     "shell.execute_reply": "2024-12-02T00:05:04.076154Z"
    },
    "papermill": {
     "duration": 0.03397,
     "end_time": "2024-12-02T00:05:04.080260",
     "exception": false,
     "start_time": "2024-12-02T00:05:04.046290",
     "status": "completed"
    },
    "tags": []
   },
   "outputs": [],
   "source": [
    "games_df['lose']= games_df.apply(\n",
    "    lambda row: row['homeTeamAbbr'] if row['homeFinalScore'] < row['visitorFinalScore'] else \n",
    "    row['visitorTeamAbbr'] if row['homeFinalScore'] > row['visitorFinalScore'] else \"none\",\n",
    "    axis=1\n",
    ")"
   ]
  },
  {
   "cell_type": "code",
   "execution_count": 12,
   "id": "35831452",
   "metadata": {
    "execution": {
     "iopub.execute_input": "2024-12-02T00:05:04.119935Z",
     "iopub.status.busy": "2024-12-02T00:05:04.119475Z",
     "iopub.status.idle": "2024-12-02T00:05:04.126917Z",
     "shell.execute_reply": "2024-12-02T00:05:04.125710Z"
    },
    "papermill": {
     "duration": 0.02676,
     "end_time": "2024-12-02T00:05:04.129651",
     "exception": false,
     "start_time": "2024-12-02T00:05:04.102891",
     "status": "completed"
    },
    "tags": []
   },
   "outputs": [],
   "source": [
    "games_df['score_dif'] = games_df['homeFinalScore'] - games_df['visitorFinalScore']\n",
    "games_df['score_dif'] = games_df['score_dif'].abs()"
   ]
  },
  {
   "cell_type": "code",
   "execution_count": 13,
   "id": "4087b167",
   "metadata": {
    "execution": {
     "iopub.execute_input": "2024-12-02T00:05:04.166712Z",
     "iopub.status.busy": "2024-12-02T00:05:04.165883Z",
     "iopub.status.idle": "2024-12-02T00:05:04.185490Z",
     "shell.execute_reply": "2024-12-02T00:05:04.184181Z"
    },
    "papermill": {
     "duration": 0.038889,
     "end_time": "2024-12-02T00:05:04.188110",
     "exception": false,
     "start_time": "2024-12-02T00:05:04.149221",
     "status": "completed"
    },
    "tags": []
   },
   "outputs": [
    {
     "name": "stdout",
     "output_type": "stream",
     "text": [
      "Number of drawn matches:  1\n"
     ]
    },
    {
     "data": {
      "text/html": [
       "<div>\n",
       "<style scoped>\n",
       "    .dataframe tbody tr th:only-of-type {\n",
       "        vertical-align: middle;\n",
       "    }\n",
       "\n",
       "    .dataframe tbody tr th {\n",
       "        vertical-align: top;\n",
       "    }\n",
       "\n",
       "    .dataframe thead th {\n",
       "        text-align: right;\n",
       "    }\n",
       "</style>\n",
       "<table border=\"1\" class=\"dataframe\">\n",
       "  <thead>\n",
       "    <tr style=\"text-align: right;\">\n",
       "      <th></th>\n",
       "      <th>gameId</th>\n",
       "      <th>season</th>\n",
       "      <th>week</th>\n",
       "      <th>gameDate</th>\n",
       "      <th>gameTimeEastern</th>\n",
       "      <th>homeTeamAbbr</th>\n",
       "      <th>visitorTeamAbbr</th>\n",
       "      <th>homeFinalScore</th>\n",
       "      <th>visitorFinalScore</th>\n",
       "      <th>win</th>\n",
       "      <th>lose</th>\n",
       "      <th>score_dif</th>\n",
       "    </tr>\n",
       "  </thead>\n",
       "  <tbody>\n",
       "    <tr>\n",
       "      <th>6</th>\n",
       "      <td>2022091105</td>\n",
       "      <td>2022</td>\n",
       "      <td>1</td>\n",
       "      <td>2022-09-11</td>\n",
       "      <td>13:00:00</td>\n",
       "      <td>HOU</td>\n",
       "      <td>IND</td>\n",
       "      <td>20</td>\n",
       "      <td>20</td>\n",
       "      <td>none</td>\n",
       "      <td>none</td>\n",
       "      <td>0</td>\n",
       "    </tr>\n",
       "  </tbody>\n",
       "</table>\n",
       "</div>"
      ],
      "text/plain": [
       "       gameId  season  week   gameDate gameTimeEastern homeTeamAbbr  \\\n",
       "6  2022091105    2022     1 2022-09-11        13:00:00          HOU   \n",
       "\n",
       "  visitorTeamAbbr  homeFinalScore  visitorFinalScore   win  lose  score_dif  \n",
       "6             IND              20                 20  none  none          0  "
      ]
     },
     "execution_count": 13,
     "metadata": {},
     "output_type": "execute_result"
    }
   ],
   "source": [
    "print(\"Number of drawn matches: \", (games_df['win'] == 'none').sum())\n",
    "games_df[games_df['win'] == 'none']"
   ]
  },
  {
   "cell_type": "markdown",
   "id": "850192cf",
   "metadata": {
    "papermill": {
     "duration": 0.014218,
     "end_time": "2024-12-02T00:05:04.216769",
     "exception": false,
     "start_time": "2024-12-02T00:05:04.202551",
     "status": "completed"
    },
    "tags": []
   },
   "source": [
    "There was a match with a draw result in the match with gameId (2022091105)"
   ]
  },
  {
   "cell_type": "code",
   "execution_count": 14,
   "id": "ec3d8f6b",
   "metadata": {
    "execution": {
     "iopub.execute_input": "2024-12-02T00:05:04.247346Z",
     "iopub.status.busy": "2024-12-02T00:05:04.246872Z",
     "iopub.status.idle": "2024-12-02T00:05:04.961740Z",
     "shell.execute_reply": "2024-12-02T00:05:04.958987Z"
    },
    "papermill": {
     "duration": 0.733684,
     "end_time": "2024-12-02T00:05:04.964653",
     "exception": false,
     "start_time": "2024-12-02T00:05:04.230969",
     "status": "completed"
    },
    "tags": []
   },
   "outputs": [
    {
     "name": "stdout",
     "output_type": "stream",
     "text": [
      "cluster centers : [[14.22857143]\n",
      " [ 4.41666667]\n",
      " [24.29411765]]\n"
     ]
    },
    {
     "name": "stderr",
     "output_type": "stream",
     "text": [
      "/opt/conda/lib/python3.10/site-packages/sklearn/cluster/_kmeans.py:870: FutureWarning: The default value of `n_init` will change from 10 to 'auto' in 1.4. Set the value of `n_init` explicitly to suppress the warning\n",
      "  warnings.warn(\n"
     ]
    }
   ],
   "source": [
    "from sklearn.cluster import KMeans\n",
    "import matplotlib.pyplot as plt\n",
    "\n",
    "data = games_df['score_dif']\n",
    "\n",
    "kmeans = KMeans(n_clusters=3, random_state=42)\n",
    "\n",
    "games_df['cluster'] = kmeans.fit_predict(games_df[['score_dif']])\n",
    "\n",
    "centers = kmeans.cluster_centers_\n",
    "\n",
    "print(f\"cluster centers : {centers}\")"
   ]
  },
  {
   "cell_type": "code",
   "execution_count": 15,
   "id": "0b15f0ac",
   "metadata": {
    "execution": {
     "iopub.execute_input": "2024-12-02T00:05:04.997851Z",
     "iopub.status.busy": "2024-12-02T00:05:04.997410Z",
     "iopub.status.idle": "2024-12-02T00:05:05.191761Z",
     "shell.execute_reply": "2024-12-02T00:05:05.190651Z"
    },
    "papermill": {
     "duration": 0.212891,
     "end_time": "2024-12-02T00:05:05.194201",
     "exception": false,
     "start_time": "2024-12-02T00:05:04.981310",
     "status": "completed"
    },
    "tags": []
   },
   "outputs": [
    {
     "data": {
      "image/png": "[encoded data removed]",
      "text/plain": [
       "<Figure size 1000x500 with 1 Axes>"
      ]
     },
     "metadata": {},
     "output_type": "display_data"
    }
   ],
   "source": [
    "plt.figure(figsize=(10, 5))\n",
    "plt.scatter(games_df['score_dif'], [0] * len(games_df), c=games_df['cluster'], cmap='viridis', label='Data Points', s=100)\n",
    "plt.scatter(centers, [0] * len(centers), c='red', marker='X', label='Centers', s=200)\n",
    "plt.title('K-Means Clustering (1D)', fontsize=15)\n",
    "plt.xlabel('Feature1', fontsize=12)\n",
    "plt.yticks([])  # Remove y-axis ticks as it's a 1D visualization\n",
    "plt.legend()\n",
    "plt.grid(axis='x', linestyle='--', alpha=0.7)\n",
    "plt.show()"
   ]
  },
  {
   "cell_type": "code",
   "execution_count": 16,
   "id": "2ae96d69",
   "metadata": {
    "execution": {
     "iopub.execute_input": "2024-12-02T00:05:05.225443Z",
     "iopub.status.busy": "2024-12-02T00:05:05.224973Z",
     "iopub.status.idle": "2024-12-02T00:05:05.234853Z",
     "shell.execute_reply": "2024-12-02T00:05:05.233464Z"
    },
    "papermill": {
     "duration": 0.028734,
     "end_time": "2024-12-02T00:05:05.237628",
     "exception": false,
     "start_time": "2024-12-02T00:05:05.208894",
     "status": "completed"
    },
    "tags": []
   },
   "outputs": [
    {
     "data": {
      "text/plain": [
       "cluster\n",
       "0    35\n",
       "1    84\n",
       "2    17\n",
       "Name: gameId, dtype: int64"
      ]
     },
     "execution_count": 16,
     "metadata": {},
     "output_type": "execute_result"
    }
   ],
   "source": [
    "games_df.groupby(by='cluster').gameId.nunique()"
   ]
  },
  {
   "cell_type": "code",
   "execution_count": 17,
   "id": "aa34c0bf",
   "metadata": {
    "execution": {
     "iopub.execute_input": "2024-12-02T00:05:05.270227Z",
     "iopub.status.busy": "2024-12-02T00:05:05.269789Z",
     "iopub.status.idle": "2024-12-02T00:05:05.279108Z",
     "shell.execute_reply": "2024-12-02T00:05:05.277877Z"
    },
    "papermill": {
     "duration": 0.028445,
     "end_time": "2024-12-02T00:05:05.281575",
     "exception": false,
     "start_time": "2024-12-02T00:05:05.253130",
     "status": "completed"
    },
    "tags": []
   },
   "outputs": [],
   "source": [
    "games_df['pertandingan'] = games_df.apply(\n",
    "    lambda row: 'close_game' if row['cluster'] == 1 else 'standard_contest' if row['cluster'] == 0 else 'blowout',\n",
    "    axis=1\n",
    ")"
   ]
  },
  {
   "cell_type": "code",
   "execution_count": 18,
   "id": "39e0cad0",
   "metadata": {
    "execution": {
     "iopub.execute_input": "2024-12-02T00:05:05.314927Z",
     "iopub.status.busy": "2024-12-02T00:05:05.313846Z",
     "iopub.status.idle": "2024-12-02T00:05:05.700590Z",
     "shell.execute_reply": "2024-12-02T00:05:05.699231Z"
    },
    "papermill": {
     "duration": 0.405602,
     "end_time": "2024-12-02T00:05:05.702971",
     "exception": false,
     "start_time": "2024-12-02T00:05:05.297369",
     "status": "completed"
    },
    "tags": []
   },
   "outputs": [
    {
     "data": {
      "text/plain": [
       "<Axes: >"
      ]
     },
     "execution_count": 18,
     "metadata": {},
     "output_type": "execute_result"
    },
    {
     "data": {
      "image/png": "[encoded data removed]",
      "text/plain": [
       "<Figure size 640x480 with 1 Axes>"
      ]
     },
     "metadata": {},
     "output_type": "display_data"
    }
   ],
   "source": [
    "games_df.score_dif.hist()"
   ]
  },
  {
   "cell_type": "code",
   "execution_count": 19,
   "id": "8b0e5823",
   "metadata": {
    "execution": {
     "iopub.execute_input": "2024-12-02T00:05:05.734572Z",
     "iopub.status.busy": "2024-12-02T00:05:05.734186Z",
     "iopub.status.idle": "2024-12-02T00:05:05.752313Z",
     "shell.execute_reply": "2024-12-02T00:05:05.751072Z"
    },
    "papermill": {
     "duration": 0.036777,
     "end_time": "2024-12-02T00:05:05.754600",
     "exception": false,
     "start_time": "2024-12-02T00:05:05.717823",
     "status": "completed"
    },
    "tags": []
   },
   "outputs": [
    {
     "data": {
      "text/html": [
       "<div>\n",
       "<style scoped>\n",
       "    .dataframe tbody tr th:only-of-type {\n",
       "        vertical-align: middle;\n",
       "    }\n",
       "\n",
       "    .dataframe tbody tr th {\n",
       "        vertical-align: top;\n",
       "    }\n",
       "\n",
       "    .dataframe thead th {\n",
       "        text-align: right;\n",
       "    }\n",
       "</style>\n",
       "<table border=\"1\" class=\"dataframe\">\n",
       "  <thead>\n",
       "    <tr style=\"text-align: right;\">\n",
       "      <th></th>\n",
       "      <th>gameId</th>\n",
       "      <th>season</th>\n",
       "      <th>week</th>\n",
       "      <th>gameDate</th>\n",
       "      <th>gameTimeEastern</th>\n",
       "      <th>homeTeamAbbr</th>\n",
       "      <th>visitorTeamAbbr</th>\n",
       "      <th>homeFinalScore</th>\n",
       "      <th>visitorFinalScore</th>\n",
       "      <th>win</th>\n",
       "      <th>lose</th>\n",
       "      <th>score_dif</th>\n",
       "      <th>cluster</th>\n",
       "      <th>pertandingan</th>\n",
       "    </tr>\n",
       "  </thead>\n",
       "  <tbody>\n",
       "    <tr>\n",
       "      <th>0</th>\n",
       "      <td>2022090800</td>\n",
       "      <td>2022</td>\n",
       "      <td>1</td>\n",
       "      <td>2022-09-08</td>\n",
       "      <td>20:20:00</td>\n",
       "      <td>LA</td>\n",
       "      <td>BUF</td>\n",
       "      <td>10</td>\n",
       "      <td>31</td>\n",
       "      <td>BUF</td>\n",
       "      <td>LA</td>\n",
       "      <td>21</td>\n",
       "      <td>2</td>\n",
       "      <td>blowout</td>\n",
       "    </tr>\n",
       "    <tr>\n",
       "      <th>1</th>\n",
       "      <td>2022091100</td>\n",
       "      <td>2022</td>\n",
       "      <td>1</td>\n",
       "      <td>2022-09-11</td>\n",
       "      <td>13:00:00</td>\n",
       "      <td>ATL</td>\n",
       "      <td>NO</td>\n",
       "      <td>26</td>\n",
       "      <td>27</td>\n",
       "      <td>NO</td>\n",
       "      <td>ATL</td>\n",
       "      <td>1</td>\n",
       "      <td>1</td>\n",
       "      <td>close_game</td>\n",
       "    </tr>\n",
       "    <tr>\n",
       "      <th>2</th>\n",
       "      <td>2022091101</td>\n",
       "      <td>2022</td>\n",
       "      <td>1</td>\n",
       "      <td>2022-09-11</td>\n",
       "      <td>13:00:00</td>\n",
       "      <td>CAR</td>\n",
       "      <td>CLE</td>\n",
       "      <td>24</td>\n",
       "      <td>26</td>\n",
       "      <td>CLE</td>\n",
       "      <td>CAR</td>\n",
       "      <td>2</td>\n",
       "      <td>1</td>\n",
       "      <td>close_game</td>\n",
       "    </tr>\n",
       "    <tr>\n",
       "      <th>3</th>\n",
       "      <td>2022091102</td>\n",
       "      <td>2022</td>\n",
       "      <td>1</td>\n",
       "      <td>2022-09-11</td>\n",
       "      <td>13:00:00</td>\n",
       "      <td>CHI</td>\n",
       "      <td>SF</td>\n",
       "      <td>19</td>\n",
       "      <td>10</td>\n",
       "      <td>CHI</td>\n",
       "      <td>SF</td>\n",
       "      <td>9</td>\n",
       "      <td>1</td>\n",
       "      <td>close_game</td>\n",
       "    </tr>\n",
       "    <tr>\n",
       "      <th>4</th>\n",
       "      <td>2022091103</td>\n",
       "      <td>2022</td>\n",
       "      <td>1</td>\n",
       "      <td>2022-09-11</td>\n",
       "      <td>13:00:00</td>\n",
       "      <td>CIN</td>\n",
       "      <td>PIT</td>\n",
       "      <td>20</td>\n",
       "      <td>23</td>\n",
       "      <td>PIT</td>\n",
       "      <td>CIN</td>\n",
       "      <td>3</td>\n",
       "      <td>1</td>\n",
       "      <td>close_game</td>\n",
       "    </tr>\n",
       "    <tr>\n",
       "      <th>...</th>\n",
       "      <td>...</td>\n",
       "      <td>...</td>\n",
       "      <td>...</td>\n",
       "      <td>...</td>\n",
       "      <td>...</td>\n",
       "      <td>...</td>\n",
       "      <td>...</td>\n",
       "      <td>...</td>\n",
       "      <td>...</td>\n",
       "      <td>...</td>\n",
       "      <td>...</td>\n",
       "      <td>...</td>\n",
       "      <td>...</td>\n",
       "      <td>...</td>\n",
       "    </tr>\n",
       "    <tr>\n",
       "      <th>131</th>\n",
       "      <td>2022110607</td>\n",
       "      <td>2022</td>\n",
       "      <td>9</td>\n",
       "      <td>2022-11-06</td>\n",
       "      <td>13:00:00</td>\n",
       "      <td>WAS</td>\n",
       "      <td>MIN</td>\n",
       "      <td>17</td>\n",
       "      <td>20</td>\n",
       "      <td>MIN</td>\n",
       "      <td>WAS</td>\n",
       "      <td>3</td>\n",
       "      <td>1</td>\n",
       "      <td>close_game</td>\n",
       "    </tr>\n",
       "    <tr>\n",
       "      <th>132</th>\n",
       "      <td>2022110608</td>\n",
       "      <td>2022</td>\n",
       "      <td>9</td>\n",
       "      <td>2022-11-06</td>\n",
       "      <td>16:05:00</td>\n",
       "      <td>ARI</td>\n",
       "      <td>SEA</td>\n",
       "      <td>21</td>\n",
       "      <td>31</td>\n",
       "      <td>SEA</td>\n",
       "      <td>ARI</td>\n",
       "      <td>10</td>\n",
       "      <td>0</td>\n",
       "      <td>standard_contest</td>\n",
       "    </tr>\n",
       "    <tr>\n",
       "      <th>133</th>\n",
       "      <td>2022110609</td>\n",
       "      <td>2022</td>\n",
       "      <td>9</td>\n",
       "      <td>2022-11-06</td>\n",
       "      <td>16:25:00</td>\n",
       "      <td>TB</td>\n",
       "      <td>LA</td>\n",
       "      <td>16</td>\n",
       "      <td>13</td>\n",
       "      <td>TB</td>\n",
       "      <td>LA</td>\n",
       "      <td>3</td>\n",
       "      <td>1</td>\n",
       "      <td>close_game</td>\n",
       "    </tr>\n",
       "    <tr>\n",
       "      <th>134</th>\n",
       "      <td>2022110610</td>\n",
       "      <td>2022</td>\n",
       "      <td>9</td>\n",
       "      <td>2022-11-06</td>\n",
       "      <td>20:20:00</td>\n",
       "      <td>KC</td>\n",
       "      <td>TEN</td>\n",
       "      <td>20</td>\n",
       "      <td>17</td>\n",
       "      <td>KC</td>\n",
       "      <td>TEN</td>\n",
       "      <td>3</td>\n",
       "      <td>1</td>\n",
       "      <td>close_game</td>\n",
       "    </tr>\n",
       "    <tr>\n",
       "      <th>135</th>\n",
       "      <td>2022110700</td>\n",
       "      <td>2022</td>\n",
       "      <td>9</td>\n",
       "      <td>2022-11-07</td>\n",
       "      <td>20:15:00</td>\n",
       "      <td>NO</td>\n",
       "      <td>BAL</td>\n",
       "      <td>13</td>\n",
       "      <td>27</td>\n",
       "      <td>BAL</td>\n",
       "      <td>NO</td>\n",
       "      <td>14</td>\n",
       "      <td>0</td>\n",
       "      <td>standard_contest</td>\n",
       "    </tr>\n",
       "  </tbody>\n",
       "</table>\n",
       "<p>136 rows × 14 columns</p>\n",
       "</div>"
      ],
      "text/plain": [
       "         gameId  season  week   gameDate gameTimeEastern homeTeamAbbr  \\\n",
       "0    2022090800    2022     1 2022-09-08        20:20:00           LA   \n",
       "1    2022091100    2022     1 2022-09-11        13:00:00          ATL   \n",
       "2    2022091101    2022     1 2022-09-11        13:00:00          CAR   \n",
       "3    2022091102    2022     1 2022-09-11        13:00:00          CHI   \n",
       "4    2022091103    2022     1 2022-09-11        13:00:00          CIN   \n",
       "..          ...     ...   ...        ...             ...          ...   \n",
       "131  2022110607    2022     9 2022-11-06        13:00:00          WAS   \n",
       "132  2022110608    2022     9 2022-11-06        16:05:00          ARI   \n",
       "133  2022110609    2022     9 2022-11-06        16:25:00           TB   \n",
       "134  2022110610    2022     9 2022-11-06        20:20:00           KC   \n",
       "135  2022110700    2022     9 2022-11-07        20:15:00           NO   \n",
       "\n",
       "    visitorTeamAbbr  homeFinalScore  visitorFinalScore  win lose  score_dif  \\\n",
       "0               BUF              10                 31  BUF   LA         21   \n",
       "1                NO              26                 27   NO  ATL          1   \n",
       "2               CLE              24                 26  CLE  CAR          2   \n",
       "3                SF              19                 10  CHI   SF          9   \n",
       "4               PIT              20                 23  PIT  CIN          3   \n",
       "..              ...             ...                ...  ...  ...        ...   \n",
       "131             MIN              17                 20  MIN  WAS          3   \n",
       "132             SEA              21                 31  SEA  ARI         10   \n",
       "133              LA              16                 13   TB   LA          3   \n",
       "134             TEN              20                 17   KC  TEN          3   \n",
       "135             BAL              13                 27  BAL   NO         14   \n",
       "\n",
       "     cluster      pertandingan  \n",
       "0          2           blowout  \n",
       "1          1        close_game  \n",
       "2          1        close_game  \n",
       "3          1        close_game  \n",
       "4          1        close_game  \n",
       "..       ...               ...  \n",
       "131        1        close_game  \n",
       "132        0  standard_contest  \n",
       "133        1        close_game  \n",
       "134        1        close_game  \n",
       "135        0  standard_contest  \n",
       "\n",
       "[136 rows x 14 columns]"
      ]
     },
     "execution_count": 19,
     "metadata": {},
     "output_type": "execute_result"
    }
   ],
   "source": [
    "games_df"
   ]
  },
  {
   "cell_type": "markdown",
   "id": "26065253",
   "metadata": {
    "papermill": {
     "duration": 0.015178,
     "end_time": "2024-12-02T00:05:05.785966",
     "exception": false,
     "start_time": "2024-12-02T00:05:05.770788",
     "status": "completed"
    },
    "tags": []
   },
   "source": [
    "From the homeFinalScore and visitorFinalScore data, we can get insight into the course of the match by knowing the difference in scores obtained by the winning team and the losing team. Furthermore, clustering is carried out on the score difference data into three clusters. This cluster divides the course of the match into categories that have the following center clusters: close_game (4.41666667), standard_contes (14.22857143), and blowout (24.29411765).5]"
   ]
  },
  {
   "cell_type": "markdown",
   "id": "7427c053",
   "metadata": {
    "papermill": {
     "duration": 0.015141,
     "end_time": "2024-12-02T00:05:05.816645",
     "exception": false,
     "start_time": "2024-12-02T00:05:05.801504",
     "status": "completed"
    },
    "tags": []
   },
   "source": [
    "### Visualization"
   ]
  },
  {
   "cell_type": "markdown",
   "id": "1e912b75",
   "metadata": {
    "papermill": {
     "duration": 0.015002,
     "end_time": "2024-12-02T00:05:05.847159",
     "exception": false,
     "start_time": "2024-12-02T00:05:05.832157",
     "status": "completed"
    },
    "tags": []
   },
   "source": [
    "Visual:\r\n",
    "- Highest scorer per match\r\n",
    "- Highest accumulated score\r\n",
    "- Match with the highest number of scores\r\n",
    "- Team with the most wins\r\n",
    "- Team with the most losses\r\n",
    "- Match progress (each number of matches intense, normal, far apart)"
   ]
  },
  {
   "cell_type": "markdown",
   "id": "b3c22233",
   "metadata": {
    "papermill": {
     "duration": 0.015027,
     "end_time": "2024-12-02T00:05:05.877458",
     "exception": false,
     "start_time": "2024-12-02T00:05:05.862431",
     "status": "completed"
    },
    "tags": []
   },
   "source": [
    "**Highest scorer per match**"
   ]
  },
  {
   "cell_type": "code",
   "execution_count": 20,
   "id": "f4481449",
   "metadata": {
    "execution": {
     "iopub.execute_input": "2024-12-02T00:05:05.910735Z",
     "iopub.status.busy": "2024-12-02T00:05:05.910361Z",
     "iopub.status.idle": "2024-12-02T00:05:05.917761Z",
     "shell.execute_reply": "2024-12-02T00:05:05.916386Z"
    },
    "papermill": {
     "duration": 0.02722,
     "end_time": "2024-12-02T00:05:05.920371",
     "exception": false,
     "start_time": "2024-12-02T00:05:05.893151",
     "status": "completed"
    },
    "tags": []
   },
   "outputs": [],
   "source": [
    "score_home_df = pd.DataFrame(games_df[['homeTeamAbbr', 'homeFinalScore']])\n",
    "score_visitor_df = pd.DataFrame(games_df[['visitorTeamAbbr', 'visitorFinalScore']])"
   ]
  },
  {
   "cell_type": "code",
   "execution_count": 21,
   "id": "806817b3",
   "metadata": {
    "execution": {
     "iopub.execute_input": "2024-12-02T00:05:05.953892Z",
     "iopub.status.busy": "2024-12-02T00:05:05.953150Z",
     "iopub.status.idle": "2024-12-02T00:05:05.959782Z",
     "shell.execute_reply": "2024-12-02T00:05:05.958347Z"
    },
    "papermill": {
     "duration": 0.025811,
     "end_time": "2024-12-02T00:05:05.962073",
     "exception": false,
     "start_time": "2024-12-02T00:05:05.936262",
     "status": "completed"
    },
    "tags": []
   },
   "outputs": [],
   "source": [
    "score_home_df.rename(columns={'homeTeamAbbr': 'team', 'homeFinalScore': 'score'}, inplace=True)\n",
    "score_visitor_df.rename(columns={'visitorTeamAbbr': 'team', 'visitorFinalScore': 'score'}, inplace=True)"
   ]
  },
  {
   "cell_type": "code",
   "execution_count": 22,
   "id": "7af0b892",
   "metadata": {
    "execution": {
     "iopub.execute_input": "2024-12-02T00:05:05.995392Z",
     "iopub.status.busy": "2024-12-02T00:05:05.994932Z",
     "iopub.status.idle": "2024-12-02T00:05:06.008171Z",
     "shell.execute_reply": "2024-12-02T00:05:06.006850Z"
    },
    "papermill": {
     "duration": 0.032812,
     "end_time": "2024-12-02T00:05:06.010505",
     "exception": false,
     "start_time": "2024-12-02T00:05:05.977693",
     "status": "completed"
    },
    "tags": []
   },
   "outputs": [
    {
     "data": {
      "text/html": [
       "<div>\n",
       "<style scoped>\n",
       "    .dataframe tbody tr th:only-of-type {\n",
       "        vertical-align: middle;\n",
       "    }\n",
       "\n",
       "    .dataframe tbody tr th {\n",
       "        vertical-align: top;\n",
       "    }\n",
       "\n",
       "    .dataframe thead th {\n",
       "        text-align: right;\n",
       "    }\n",
       "</style>\n",
       "<table border=\"1\" class=\"dataframe\">\n",
       "  <thead>\n",
       "    <tr style=\"text-align: right;\">\n",
       "      <th></th>\n",
       "      <th>team</th>\n",
       "      <th>score</th>\n",
       "    </tr>\n",
       "  </thead>\n",
       "  <tbody>\n",
       "    <tr>\n",
       "      <th>0</th>\n",
       "      <td>LA</td>\n",
       "      <td>10</td>\n",
       "    </tr>\n",
       "    <tr>\n",
       "      <th>1</th>\n",
       "      <td>ATL</td>\n",
       "      <td>26</td>\n",
       "    </tr>\n",
       "    <tr>\n",
       "      <th>2</th>\n",
       "      <td>CAR</td>\n",
       "      <td>24</td>\n",
       "    </tr>\n",
       "    <tr>\n",
       "      <th>3</th>\n",
       "      <td>CHI</td>\n",
       "      <td>19</td>\n",
       "    </tr>\n",
       "    <tr>\n",
       "      <th>4</th>\n",
       "      <td>CIN</td>\n",
       "      <td>20</td>\n",
       "    </tr>\n",
       "    <tr>\n",
       "      <th>...</th>\n",
       "      <td>...</td>\n",
       "      <td>...</td>\n",
       "    </tr>\n",
       "    <tr>\n",
       "      <th>131</th>\n",
       "      <td>MIN</td>\n",
       "      <td>20</td>\n",
       "    </tr>\n",
       "    <tr>\n",
       "      <th>132</th>\n",
       "      <td>SEA</td>\n",
       "      <td>31</td>\n",
       "    </tr>\n",
       "    <tr>\n",
       "      <th>133</th>\n",
       "      <td>LA</td>\n",
       "      <td>13</td>\n",
       "    </tr>\n",
       "    <tr>\n",
       "      <th>134</th>\n",
       "      <td>TEN</td>\n",
       "      <td>17</td>\n",
       "    </tr>\n",
       "    <tr>\n",
       "      <th>135</th>\n",
       "      <td>BAL</td>\n",
       "      <td>27</td>\n",
       "    </tr>\n",
       "  </tbody>\n",
       "</table>\n",
       "<p>272 rows × 2 columns</p>\n",
       "</div>"
      ],
      "text/plain": [
       "    team  score\n",
       "0     LA     10\n",
       "1    ATL     26\n",
       "2    CAR     24\n",
       "3    CHI     19\n",
       "4    CIN     20\n",
       "..   ...    ...\n",
       "131  MIN     20\n",
       "132  SEA     31\n",
       "133   LA     13\n",
       "134  TEN     17\n",
       "135  BAL     27\n",
       "\n",
       "[272 rows x 2 columns]"
      ]
     },
     "execution_count": 22,
     "metadata": {},
     "output_type": "execute_result"
    }
   ],
   "source": [
    "score_df = pd.concat([score_home_df, score_visitor_df])\n",
    "score_df"
   ]
  },
  {
   "cell_type": "code",
   "execution_count": 23,
   "id": "3d8408d1",
   "metadata": {
    "execution": {
     "iopub.execute_input": "2024-12-02T00:05:06.046390Z",
     "iopub.status.busy": "2024-12-02T00:05:06.045940Z",
     "iopub.status.idle": "2024-12-02T00:05:06.072568Z",
     "shell.execute_reply": "2024-12-02T00:05:06.069586Z"
    },
    "papermill": {
     "duration": 0.049064,
     "end_time": "2024-12-02T00:05:06.077027",
     "exception": false,
     "start_time": "2024-12-02T00:05:06.027963",
     "status": "completed"
    },
    "tags": []
   },
   "outputs": [
    {
     "name": "stdout",
     "output_type": "stream",
     "text": [
      "cluster centers : [[23.39230769]\n",
      " [12.27659574]\n",
      " [36.1875    ]]\n"
     ]
    },
    {
     "name": "stderr",
     "output_type": "stream",
     "text": [
      "/opt/conda/lib/python3.10/site-packages/sklearn/cluster/_kmeans.py:870: FutureWarning: The default value of `n_init` will change from 10 to 'auto' in 1.4. Set the value of `n_init` explicitly to suppress the warning\n",
      "  warnings.warn(\n"
     ]
    }
   ],
   "source": [
    "from sklearn.cluster import KMeans\n",
    "import matplotlib.pyplot as plt\n",
    "\n",
    "\n",
    "kmeans = KMeans(n_clusters=3, random_state=42)\n",
    "\n",
    "score_df['cluster'] = kmeans.fit_predict(score_df[['score']])\n",
    "\n",
    "centers = kmeans.cluster_centers_\n",
    "\n",
    "print(f\"cluster centers : {centers}\")"
   ]
  },
  {
   "cell_type": "code",
   "execution_count": 24,
   "id": "e7a84ee6",
   "metadata": {
    "execution": {
     "iopub.execute_input": "2024-12-02T00:05:06.113558Z",
     "iopub.status.busy": "2024-12-02T00:05:06.113101Z",
     "iopub.status.idle": "2024-12-02T00:05:06.291169Z",
     "shell.execute_reply": "2024-12-02T00:05:06.290076Z"
    },
    "papermill": {
     "duration": 0.19796,
     "end_time": "2024-12-02T00:05:06.293414",
     "exception": false,
     "start_time": "2024-12-02T00:05:06.095454",
     "status": "completed"
    },
    "tags": []
   },
   "outputs": [
    {
     "data": {
      "image/png": "[encoded data removed]",
      "text/plain": [
       "<Figure size 1000x500 with 1 Axes>"
      ]
     },
     "metadata": {},
     "output_type": "display_data"
    }
   ],
   "source": [
    "plt.figure(figsize=(10, 5))\n",
    "plt.scatter(score_df['score'], [0] * len(score_df), c=score_df['cluster'], cmap='viridis', label='Data Points', s=100)\n",
    "plt.scatter(centers, [0] * len(centers), c='red', marker='X', label='Centers', s=200)\n",
    "plt.title('K-Means Clustering (1D)', fontsize=15)\n",
    "plt.xlabel('Feature1', fontsize=12)\n",
    "plt.yticks([])  # Remove y-axis ticks as it's a 1D visualization\n",
    "plt.legend()\n",
    "plt.grid(axis='x', linestyle='--', alpha=0.7)\n",
    "plt.show()"
   ]
  },
  {
   "cell_type": "code",
   "execution_count": 25,
   "id": "013a4ed7",
   "metadata": {
    "execution": {
     "iopub.execute_input": "2024-12-02T00:05:06.330402Z",
     "iopub.status.busy": "2024-12-02T00:05:06.329878Z",
     "iopub.status.idle": "2024-12-02T00:05:06.340626Z",
     "shell.execute_reply": "2024-12-02T00:05:06.339373Z"
    },
    "papermill": {
     "duration": 0.032788,
     "end_time": "2024-12-02T00:05:06.343702",
     "exception": false,
     "start_time": "2024-12-02T00:05:06.310914",
     "status": "completed"
    },
    "tags": []
   },
   "outputs": [
    {
     "data": {
      "text/plain": [
       "cluster\n",
       "0    130\n",
       "1     94\n",
       "2     48\n",
       "Name: team, dtype: int64"
      ]
     },
     "execution_count": 25,
     "metadata": {},
     "output_type": "execute_result"
    }
   ],
   "source": [
    "score_df.groupby(by='cluster').team.count()"
   ]
  },
  {
   "cell_type": "code",
   "execution_count": 26,
   "id": "24f731c2",
   "metadata": {
    "execution": {
     "iopub.execute_input": "2024-12-02T00:05:06.378765Z",
     "iopub.status.busy": "2024-12-02T00:05:06.378350Z",
     "iopub.status.idle": "2024-12-02T00:05:06.390081Z",
     "shell.execute_reply": "2024-12-02T00:05:06.388915Z"
    },
    "papermill": {
     "duration": 0.031461,
     "end_time": "2024-12-02T00:05:06.392137",
     "exception": false,
     "start_time": "2024-12-02T00:05:06.360676",
     "status": "completed"
    },
    "tags": []
   },
   "outputs": [
    {
     "data": {
      "text/html": [
       "<div>\n",
       "<style scoped>\n",
       "    .dataframe tbody tr th:only-of-type {\n",
       "        vertical-align: middle;\n",
       "    }\n",
       "\n",
       "    .dataframe tbody tr th {\n",
       "        vertical-align: top;\n",
       "    }\n",
       "\n",
       "    .dataframe thead th {\n",
       "        text-align: right;\n",
       "    }\n",
       "</style>\n",
       "<table border=\"1\" class=\"dataframe\">\n",
       "  <thead>\n",
       "    <tr style=\"text-align: right;\">\n",
       "      <th></th>\n",
       "      <th>team</th>\n",
       "      <th>score</th>\n",
       "      <th>cluster</th>\n",
       "    </tr>\n",
       "  </thead>\n",
       "  <tbody>\n",
       "    <tr>\n",
       "      <th>111</th>\n",
       "      <td>DAL</td>\n",
       "      <td>49</td>\n",
       "      <td>2</td>\n",
       "    </tr>\n",
       "    <tr>\n",
       "      <th>53</th>\n",
       "      <td>SEA</td>\n",
       "      <td>48</td>\n",
       "      <td>2</td>\n",
       "    </tr>\n",
       "    <tr>\n",
       "      <th>53</th>\n",
       "      <td>DET</td>\n",
       "      <td>45</td>\n",
       "      <td>2</td>\n",
       "    </tr>\n",
       "    <tr>\n",
       "      <th>10</th>\n",
       "      <td>KC</td>\n",
       "      <td>44</td>\n",
       "      <td>2</td>\n",
       "    </tr>\n",
       "    <tr>\n",
       "      <th>105</th>\n",
       "      <td>KC</td>\n",
       "      <td>44</td>\n",
       "      <td>2</td>\n",
       "    </tr>\n",
       "  </tbody>\n",
       "</table>\n",
       "</div>"
      ],
      "text/plain": [
       "    team  score  cluster\n",
       "111  DAL     49        2\n",
       "53   SEA     48        2\n",
       "53   DET     45        2\n",
       "10    KC     44        2\n",
       "105   KC     44        2"
      ]
     },
     "execution_count": 26,
     "metadata": {},
     "output_type": "execute_result"
    }
   ],
   "source": [
    "score_df = score_df.sort_values(by='score', ascending=False)\n",
    "score_df.head(5)"
   ]
  },
  {
   "cell_type": "code",
   "execution_count": 27,
   "id": "5fd7d65a",
   "metadata": {
    "execution": {
     "iopub.execute_input": "2024-12-02T00:05:06.427318Z",
     "iopub.status.busy": "2024-12-02T00:05:06.426342Z",
     "iopub.status.idle": "2024-12-02T00:05:06.438214Z",
     "shell.execute_reply": "2024-12-02T00:05:06.437071Z"
    },
    "papermill": {
     "duration": 0.031634,
     "end_time": "2024-12-02T00:05:06.440310",
     "exception": false,
     "start_time": "2024-12-02T00:05:06.408676",
     "status": "completed"
    },
    "tags": []
   },
   "outputs": [
    {
     "data": {
      "text/html": [
       "<div>\n",
       "<style scoped>\n",
       "    .dataframe tbody tr th:only-of-type {\n",
       "        vertical-align: middle;\n",
       "    }\n",
       "\n",
       "    .dataframe tbody tr th {\n",
       "        vertical-align: top;\n",
       "    }\n",
       "\n",
       "    .dataframe thead th {\n",
       "        text-align: right;\n",
       "    }\n",
       "</style>\n",
       "<table border=\"1\" class=\"dataframe\">\n",
       "  <thead>\n",
       "    <tr style=\"text-align: right;\">\n",
       "      <th></th>\n",
       "      <th>team</th>\n",
       "      <th>score</th>\n",
       "      <th>cluster</th>\n",
       "    </tr>\n",
       "  </thead>\n",
       "  <tbody>\n",
       "    <tr>\n",
       "      <th>70</th>\n",
       "      <td>DET</td>\n",
       "      <td>0</td>\n",
       "      <td>1</td>\n",
       "    </tr>\n",
       "    <tr>\n",
       "      <th>114</th>\n",
       "      <td>LV</td>\n",
       "      <td>0</td>\n",
       "      <td>1</td>\n",
       "    </tr>\n",
       "    <tr>\n",
       "      <th>20</th>\n",
       "      <td>IND</td>\n",
       "      <td>0</td>\n",
       "      <td>1</td>\n",
       "    </tr>\n",
       "    <tr>\n",
       "      <th>14</th>\n",
       "      <td>DAL</td>\n",
       "      <td>3</td>\n",
       "      <td>1</td>\n",
       "    </tr>\n",
       "    <tr>\n",
       "      <th>129</th>\n",
       "      <td>IND</td>\n",
       "      <td>3</td>\n",
       "      <td>1</td>\n",
       "    </tr>\n",
       "  </tbody>\n",
       "</table>\n",
       "</div>"
      ],
      "text/plain": [
       "    team  score  cluster\n",
       "70   DET      0        1\n",
       "114   LV      0        1\n",
       "20   IND      0        1\n",
       "14   DAL      3        1\n",
       "129  IND      3        1"
      ]
     },
     "execution_count": 27,
     "metadata": {},
     "output_type": "execute_result"
    }
   ],
   "source": [
    "score_df = score_df.sort_values(by='score', ascending=True)\n",
    "score_df.head(5)"
   ]
  },
  {
   "cell_type": "code",
   "execution_count": 28,
   "id": "bcb1a6be",
   "metadata": {
    "execution": {
     "iopub.execute_input": "2024-12-02T00:05:06.475788Z",
     "iopub.status.busy": "2024-12-02T00:05:06.475378Z",
     "iopub.status.idle": "2024-12-02T00:05:06.494755Z",
     "shell.execute_reply": "2024-12-02T00:05:06.493490Z"
    },
    "papermill": {
     "duration": 0.039794,
     "end_time": "2024-12-02T00:05:06.497144",
     "exception": false,
     "start_time": "2024-12-02T00:05:06.457350",
     "status": "completed"
    },
    "tags": []
   },
   "outputs": [
    {
     "data": {
      "text/html": [
       "<div>\n",
       "<style scoped>\n",
       "    .dataframe tbody tr th:only-of-type {\n",
       "        vertical-align: middle;\n",
       "    }\n",
       "\n",
       "    .dataframe tbody tr th {\n",
       "        vertical-align: top;\n",
       "    }\n",
       "\n",
       "    .dataframe thead tr th {\n",
       "        text-align: left;\n",
       "    }\n",
       "\n",
       "    .dataframe thead tr:last-of-type th {\n",
       "        text-align: right;\n",
       "    }\n",
       "</style>\n",
       "<table border=\"1\" class=\"dataframe\">\n",
       "  <thead>\n",
       "    <tr>\n",
       "      <th></th>\n",
       "      <th colspan=\"4\" halign=\"left\">score</th>\n",
       "    </tr>\n",
       "    <tr>\n",
       "      <th></th>\n",
       "      <th>max</th>\n",
       "      <th>min</th>\n",
       "      <th>count</th>\n",
       "      <th>sum</th>\n",
       "    </tr>\n",
       "    <tr>\n",
       "      <th>cluster</th>\n",
       "      <th></th>\n",
       "      <th></th>\n",
       "      <th></th>\n",
       "      <th></th>\n",
       "    </tr>\n",
       "  </thead>\n",
       "  <tbody>\n",
       "    <tr>\n",
       "      <th>0</th>\n",
       "      <td>29</td>\n",
       "      <td>18</td>\n",
       "      <td>130</td>\n",
       "      <td>3041</td>\n",
       "    </tr>\n",
       "    <tr>\n",
       "      <th>1</th>\n",
       "      <td>17</td>\n",
       "      <td>0</td>\n",
       "      <td>94</td>\n",
       "      <td>1154</td>\n",
       "    </tr>\n",
       "    <tr>\n",
       "      <th>2</th>\n",
       "      <td>49</td>\n",
       "      <td>30</td>\n",
       "      <td>48</td>\n",
       "      <td>1737</td>\n",
       "    </tr>\n",
       "  </tbody>\n",
       "</table>\n",
       "</div>"
      ],
      "text/plain": [
       "        score                \n",
       "          max min count   sum\n",
       "cluster                      \n",
       "0          29  18   130  3041\n",
       "1          17   0    94  1154\n",
       "2          49  30    48  1737"
      ]
     },
     "execution_count": 28,
     "metadata": {},
     "output_type": "execute_result"
    }
   ],
   "source": [
    "score_df.groupby(by='cluster').agg({\n",
    "    'score': ['max','min', 'count', 'sum']\n",
    "})"
   ]
  },
  {
   "cell_type": "code",
   "execution_count": 29,
   "id": "c0f1345d",
   "metadata": {
    "execution": {
     "iopub.execute_input": "2024-12-02T00:05:06.533291Z",
     "iopub.status.busy": "2024-12-02T00:05:06.532895Z",
     "iopub.status.idle": "2024-12-02T00:05:06.543472Z",
     "shell.execute_reply": "2024-12-02T00:05:06.542296Z"
    },
    "papermill": {
     "duration": 0.030584,
     "end_time": "2024-12-02T00:05:06.545512",
     "exception": false,
     "start_time": "2024-12-02T00:05:06.514928",
     "status": "completed"
    },
    "tags": []
   },
   "outputs": [
    {
     "data": {
      "text/html": [
       "<div>\n",
       "<style scoped>\n",
       "    .dataframe tbody tr th:only-of-type {\n",
       "        vertical-align: middle;\n",
       "    }\n",
       "\n",
       "    .dataframe tbody tr th {\n",
       "        vertical-align: top;\n",
       "    }\n",
       "\n",
       "    .dataframe thead th {\n",
       "        text-align: right;\n",
       "    }\n",
       "</style>\n",
       "<table border=\"1\" class=\"dataframe\">\n",
       "  <thead>\n",
       "    <tr style=\"text-align: right;\">\n",
       "      <th></th>\n",
       "      <th>team</th>\n",
       "      <th>score</th>\n",
       "      <th>cluster</th>\n",
       "    </tr>\n",
       "  </thead>\n",
       "  <tbody>\n",
       "    <tr>\n",
       "      <th>70</th>\n",
       "      <td>DET</td>\n",
       "      <td>0</td>\n",
       "      <td>1</td>\n",
       "    </tr>\n",
       "    <tr>\n",
       "      <th>114</th>\n",
       "      <td>LV</td>\n",
       "      <td>0</td>\n",
       "      <td>1</td>\n",
       "    </tr>\n",
       "    <tr>\n",
       "      <th>20</th>\n",
       "      <td>IND</td>\n",
       "      <td>0</td>\n",
       "      <td>1</td>\n",
       "    </tr>\n",
       "    <tr>\n",
       "      <th>14</th>\n",
       "      <td>DAL</td>\n",
       "      <td>3</td>\n",
       "      <td>1</td>\n",
       "    </tr>\n",
       "    <tr>\n",
       "      <th>129</th>\n",
       "      <td>IND</td>\n",
       "      <td>3</td>\n",
       "      <td>1</td>\n",
       "    </tr>\n",
       "  </tbody>\n",
       "</table>\n",
       "</div>"
      ],
      "text/plain": [
       "    team  score  cluster\n",
       "70   DET      0        1\n",
       "114   LV      0        1\n",
       "20   IND      0        1\n",
       "14   DAL      3        1\n",
       "129  IND      3        1"
      ]
     },
     "execution_count": 29,
     "metadata": {},
     "output_type": "execute_result"
    }
   ],
   "source": [
    "score_df.head()"
   ]
  },
  {
   "cell_type": "code",
   "execution_count": 30,
   "id": "03e8adb1",
   "metadata": {
    "execution": {
     "iopub.execute_input": "2024-12-02T00:05:06.582182Z",
     "iopub.status.busy": "2024-12-02T00:05:06.580739Z",
     "iopub.status.idle": "2024-12-02T00:05:07.133831Z",
     "shell.execute_reply": "2024-12-02T00:05:07.132421Z"
    },
    "papermill": {
     "duration": 0.574084,
     "end_time": "2024-12-02T00:05:07.136458",
     "exception": false,
     "start_time": "2024-12-02T00:05:06.562374",
     "status": "completed"
    },
    "tags": []
   },
   "outputs": [
    {
     "data": {
      "image/png": "[encoded data removed]",
      "text/plain": [
       "<Figure size 2000x500 with 2 Axes>"
      ]
     },
     "metadata": {},
     "output_type": "display_data"
    }
   ],
   "source": [
    "\n",
    "fig, ax = plt.subplots(nrows=1, ncols=2, figsize=(20, 5))\n",
    "\n",
    "sns.barplot(x=\"score\", y=\"team\", data=score_df.sort_values(by='score', ascending=False).head(6), palette='muted', ax=ax[0])\n",
    "ax[0].set_ylabel(None)\n",
    "ax[0].set_xlabel(None)\n",
    "ax[0].set_title(\"Top score team\", loc=\"center\", fontsize=15)\n",
    "ax[0].tick_params(axis ='y', labelsize=10)\n",
    "\n",
    "sns.barplot(x=\"score\", y=\"team\", data=score_df.sort_values(by='score', ascending=True).head(6), palette='muted', ax=ax[1])\n",
    "ax[1].set_ylabel(None)\n",
    "ax[1].set_xlabel(None)\n",
    "ax[1].invert_xaxis()\n",
    "ax[1].yaxis.set_label_position(\"right\")\n",
    "ax[1].yaxis.tick_right()\n",
    "ax[1].set_title(\"Bottom score team\", loc=\"center\", fontsize=15)\n",
    "ax[1].tick_params(axis='y', labelsize=12)\n",
    "\n",
    "plt.show()\n",
    "\n",
    "fig.savefig('fig1.png')"
   ]
  },
  {
   "cell_type": "markdown",
   "id": "4e493c37",
   "metadata": {
    "papermill": {
     "duration": 0.01771,
     "end_time": "2024-12-02T00:05:07.171632",
     "exception": false,
     "start_time": "2024-12-02T00:05:07.153922",
     "status": "completed"
    },
    "tags": []
   },
   "source": [
    "**Highest and lowest score accumulation**"
   ]
  },
  {
   "cell_type": "code",
   "execution_count": 31,
   "id": "96224b18",
   "metadata": {
    "execution": {
     "iopub.execute_input": "2024-12-02T00:05:07.215344Z",
     "iopub.status.busy": "2024-12-02T00:05:07.214700Z",
     "iopub.status.idle": "2024-12-02T00:05:07.229311Z",
     "shell.execute_reply": "2024-12-02T00:05:07.228121Z"
    },
    "papermill": {
     "duration": 0.040131,
     "end_time": "2024-12-02T00:05:07.231406",
     "exception": false,
     "start_time": "2024-12-02T00:05:07.191275",
     "status": "completed"
    },
    "tags": []
   },
   "outputs": [
    {
     "data": {
      "text/html": [
       "<div>\n",
       "<style scoped>\n",
       "    .dataframe tbody tr th:only-of-type {\n",
       "        vertical-align: middle;\n",
       "    }\n",
       "\n",
       "    .dataframe tbody tr th {\n",
       "        vertical-align: top;\n",
       "    }\n",
       "\n",
       "    .dataframe thead th {\n",
       "        text-align: right;\n",
       "    }\n",
       "</style>\n",
       "<table border=\"1\" class=\"dataframe\">\n",
       "  <thead>\n",
       "    <tr style=\"text-align: right;\">\n",
       "      <th></th>\n",
       "      <th>team</th>\n",
       "      <th>score</th>\n",
       "    </tr>\n",
       "  </thead>\n",
       "  <tbody>\n",
       "    <tr>\n",
       "      <th>0</th>\n",
       "      <td>KC</td>\n",
       "      <td>243</td>\n",
       "    </tr>\n",
       "    <tr>\n",
       "      <th>1</th>\n",
       "      <td>SEA</td>\n",
       "      <td>241</td>\n",
       "    </tr>\n",
       "    <tr>\n",
       "      <th>2</th>\n",
       "      <td>BAL</td>\n",
       "      <td>235</td>\n",
       "    </tr>\n",
       "    <tr>\n",
       "      <th>3</th>\n",
       "      <td>CIN</td>\n",
       "      <td>228</td>\n",
       "    </tr>\n",
       "    <tr>\n",
       "      <th>4</th>\n",
       "      <td>PHI</td>\n",
       "      <td>225</td>\n",
       "    </tr>\n",
       "  </tbody>\n",
       "</table>\n",
       "</div>"
      ],
      "text/plain": [
       "  team  score\n",
       "0   KC    243\n",
       "1  SEA    241\n",
       "2  BAL    235\n",
       "3  CIN    228\n",
       "4  PHI    225"
      ]
     },
     "execution_count": 31,
     "metadata": {},
     "output_type": "execute_result"
    }
   ],
   "source": [
    "agg_score_df = score_df.groupby(by='team').score.sum().sort_values(ascending=False).reset_index()\n",
    "agg_score_df.head(5)"
   ]
  },
  {
   "cell_type": "code",
   "execution_count": 32,
   "id": "af98198e",
   "metadata": {
    "execution": {
     "iopub.execute_input": "2024-12-02T00:05:07.272219Z",
     "iopub.status.busy": "2024-12-02T00:05:07.271699Z",
     "iopub.status.idle": "2024-12-02T00:05:07.283968Z",
     "shell.execute_reply": "2024-12-02T00:05:07.282753Z"
    },
    "papermill": {
     "duration": 0.03641,
     "end_time": "2024-12-02T00:05:07.286544",
     "exception": false,
     "start_time": "2024-12-02T00:05:07.250134",
     "status": "completed"
    },
    "tags": []
   },
   "outputs": [
    {
     "data": {
      "text/html": [
       "<div>\n",
       "<style scoped>\n",
       "    .dataframe tbody tr th:only-of-type {\n",
       "        vertical-align: middle;\n",
       "    }\n",
       "\n",
       "    .dataframe tbody tr th {\n",
       "        vertical-align: top;\n",
       "    }\n",
       "\n",
       "    .dataframe thead th {\n",
       "        text-align: right;\n",
       "    }\n",
       "</style>\n",
       "<table border=\"1\" class=\"dataframe\">\n",
       "  <thead>\n",
       "    <tr style=\"text-align: right;\">\n",
       "      <th></th>\n",
       "      <th>team</th>\n",
       "      <th>score</th>\n",
       "    </tr>\n",
       "  </thead>\n",
       "  <tbody>\n",
       "    <tr>\n",
       "      <th>27</th>\n",
       "      <td>HOU</td>\n",
       "      <td>133</td>\n",
       "    </tr>\n",
       "    <tr>\n",
       "      <th>28</th>\n",
       "      <td>IND</td>\n",
       "      <td>132</td>\n",
       "    </tr>\n",
       "    <tr>\n",
       "      <th>29</th>\n",
       "      <td>LA</td>\n",
       "      <td>131</td>\n",
       "    </tr>\n",
       "    <tr>\n",
       "      <th>30</th>\n",
       "      <td>DEN</td>\n",
       "      <td>121</td>\n",
       "    </tr>\n",
       "    <tr>\n",
       "      <th>31</th>\n",
       "      <td>PIT</td>\n",
       "      <td>120</td>\n",
       "    </tr>\n",
       "  </tbody>\n",
       "</table>\n",
       "</div>"
      ],
      "text/plain": [
       "   team  score\n",
       "27  HOU    133\n",
       "28  IND    132\n",
       "29   LA    131\n",
       "30  DEN    121\n",
       "31  PIT    120"
      ]
     },
     "execution_count": 32,
     "metadata": {},
     "output_type": "execute_result"
    }
   ],
   "source": [
    "agg_score_df.tail(5)"
   ]
  },
  {
   "cell_type": "code",
   "execution_count": 33,
   "id": "d4125aa5",
   "metadata": {
    "execution": {
     "iopub.execute_input": "2024-12-02T00:05:07.327202Z",
     "iopub.status.busy": "2024-12-02T00:05:07.326770Z",
     "iopub.status.idle": "2024-12-02T00:05:07.845194Z",
     "shell.execute_reply": "2024-12-02T00:05:07.844071Z"
    },
    "papermill": {
     "duration": 0.541527,
     "end_time": "2024-12-02T00:05:07.847975",
     "exception": false,
     "start_time": "2024-12-02T00:05:07.306448",
     "status": "completed"
    },
    "tags": []
   },
   "outputs": [
    {
     "data": {
      "image/png": "[encoded data removed]",
      "text/plain": [
       "<Figure size 2000x500 with 2 Axes>"
      ]
     },
     "metadata": {},
     "output_type": "display_data"
    }
   ],
   "source": [
    "fig, ax = plt.subplots(nrows=1, ncols=2, figsize=(20, 5))\n",
    "\n",
    "sns.barplot(x=\"score\", y=\"team\", data=agg_score_df.sort_values(by='score', ascending=False).head(6), palette='muted', ax=ax[0])\n",
    "ax[0].set_ylabel(None)\n",
    "ax[0].set_xlabel(None)\n",
    "ax[0].set_title(\"Top acumulation score team\", loc=\"center\", fontsize=15)\n",
    "ax[0].tick_params(axis ='y', labelsize=10)\n",
    "\n",
    "sns.barplot(x=\"score\", y=\"team\", data=agg_score_df.sort_values(by='score', ascending=True).head(6), palette='muted', ax=ax[1])\n",
    "ax[1].set_ylabel(None)\n",
    "ax[1].set_xlabel(None)\n",
    "ax[1].invert_xaxis()\n",
    "ax[1].yaxis.set_label_position(\"right\")\n",
    "ax[1].yaxis.tick_right()\n",
    "ax[1].set_title(\"Bottom acumulation score team\", loc=\"center\", fontsize=15)\n",
    "ax[1].tick_params(axis='y', labelsize=12)\n",
    "\n",
    "plt.show()\n",
    "fig.savefig('fig2.png')"
   ]
  },
  {
   "cell_type": "code",
   "execution_count": 34,
   "id": "6c39ee80",
   "metadata": {
    "execution": {
     "iopub.execute_input": "2024-12-02T00:05:07.889199Z",
     "iopub.status.busy": "2024-12-02T00:05:07.888779Z",
     "iopub.status.idle": "2024-12-02T00:05:07.895235Z",
     "shell.execute_reply": "2024-12-02T00:05:07.894218Z"
    },
    "papermill": {
     "duration": 0.030468,
     "end_time": "2024-12-02T00:05:07.897700",
     "exception": false,
     "start_time": "2024-12-02T00:05:07.867232",
     "status": "completed"
    },
    "tags": []
   },
   "outputs": [
    {
     "data": {
      "text/plain": [
       "32"
      ]
     },
     "execution_count": 34,
     "metadata": {},
     "output_type": "execute_result"
    }
   ],
   "source": [
    "len(agg_score_df)"
   ]
  },
  {
   "cell_type": "markdown",
   "id": "8fe10301",
   "metadata": {
    "papermill": {
     "duration": 0.018672,
     "end_time": "2024-12-02T00:05:07.934905",
     "exception": false,
     "start_time": "2024-12-02T00:05:07.916233",
     "status": "completed"
    },
    "tags": []
   },
   "source": [
    "**Match with the highest and lowest total score**"
   ]
  },
  {
   "cell_type": "code",
   "execution_count": 35,
   "id": "7b152407",
   "metadata": {
    "execution": {
     "iopub.execute_input": "2024-12-02T00:05:07.974329Z",
     "iopub.status.busy": "2024-12-02T00:05:07.973408Z",
     "iopub.status.idle": "2024-12-02T00:05:07.980912Z",
     "shell.execute_reply": "2024-12-02T00:05:07.979476Z"
    },
    "papermill": {
     "duration": 0.030045,
     "end_time": "2024-12-02T00:05:07.983481",
     "exception": false,
     "start_time": "2024-12-02T00:05:07.953436",
     "status": "completed"
    },
    "tags": []
   },
   "outputs": [],
   "source": [
    "games_df['total_score'] = games_df['homeFinalScore'] + games_df['visitorFinalScore']"
   ]
  },
  {
   "cell_type": "code",
   "execution_count": 36,
   "id": "ac243bdd",
   "metadata": {
    "execution": {
     "iopub.execute_input": "2024-12-02T00:05:08.022401Z",
     "iopub.status.busy": "2024-12-02T00:05:08.021916Z",
     "iopub.status.idle": "2024-12-02T00:05:08.029456Z",
     "shell.execute_reply": "2024-12-02T00:05:08.028359Z"
    },
    "papermill": {
     "duration": 0.029283,
     "end_time": "2024-12-02T00:05:08.031473",
     "exception": false,
     "start_time": "2024-12-02T00:05:08.002190",
     "status": "completed"
    },
    "tags": []
   },
   "outputs": [],
   "source": [
    "total_score_games_df = pd.DataFrame({'match' : games_df['homeTeamAbbr'] + \" vs \" + games_df['visitorTeamAbbr'], 'total_score': games_df['total_score'],})"
   ]
  },
  {
   "cell_type": "code",
   "execution_count": 37,
   "id": "c15aebf8",
   "metadata": {
    "execution": {
     "iopub.execute_input": "2024-12-02T00:05:08.069669Z",
     "iopub.status.busy": "2024-12-02T00:05:08.069250Z",
     "iopub.status.idle": "2024-12-02T00:05:08.081297Z",
     "shell.execute_reply": "2024-12-02T00:05:08.079864Z"
    },
    "papermill": {
     "duration": 0.033635,
     "end_time": "2024-12-02T00:05:08.083329",
     "exception": false,
     "start_time": "2024-12-02T00:05:08.049694",
     "status": "completed"
    },
    "tags": []
   },
   "outputs": [
    {
     "data": {
      "text/html": [
       "<div>\n",
       "<style scoped>\n",
       "    .dataframe tbody tr th:only-of-type {\n",
       "        vertical-align: middle;\n",
       "    }\n",
       "\n",
       "    .dataframe tbody tr th {\n",
       "        vertical-align: top;\n",
       "    }\n",
       "\n",
       "    .dataframe thead th {\n",
       "        text-align: right;\n",
       "    }\n",
       "</style>\n",
       "<table border=\"1\" class=\"dataframe\">\n",
       "  <thead>\n",
       "    <tr style=\"text-align: right;\">\n",
       "      <th></th>\n",
       "      <th>match</th>\n",
       "      <th>total_score</th>\n",
       "    </tr>\n",
       "  </thead>\n",
       "  <tbody>\n",
       "    <tr>\n",
       "      <th>53</th>\n",
       "      <td>DET vs SEA</td>\n",
       "      <td>93</td>\n",
       "    </tr>\n",
       "    <tr>\n",
       "      <th>17</th>\n",
       "      <td>BAL vs MIA</td>\n",
       "      <td>80</td>\n",
       "    </tr>\n",
       "    <tr>\n",
       "      <th>111</th>\n",
       "      <td>DAL vs CHI</td>\n",
       "      <td>78</td>\n",
       "    </tr>\n",
       "    <tr>\n",
       "      <th>94</th>\n",
       "      <td>ARI vs NO</td>\n",
       "      <td>76</td>\n",
       "    </tr>\n",
       "    <tr>\n",
       "      <th>5</th>\n",
       "      <td>DET vs PHI</td>\n",
       "      <td>73</td>\n",
       "    </tr>\n",
       "  </tbody>\n",
       "</table>\n",
       "</div>"
      ],
      "text/plain": [
       "          match  total_score\n",
       "53   DET vs SEA           93\n",
       "17   BAL vs MIA           80\n",
       "111  DAL vs CHI           78\n",
       "94    ARI vs NO           76\n",
       "5    DET vs PHI           73"
      ]
     },
     "execution_count": 37,
     "metadata": {},
     "output_type": "execute_result"
    }
   ],
   "source": [
    "total_score_games_df.sort_values(by=\"total_score\", ascending=False).head()\n"
   ]
  },
  {
   "cell_type": "code",
   "execution_count": 38,
   "id": "092f2b47",
   "metadata": {
    "execution": {
     "iopub.execute_input": "2024-12-02T00:05:08.124414Z",
     "iopub.status.busy": "2024-12-02T00:05:08.123298Z",
     "iopub.status.idle": "2024-12-02T00:05:08.135444Z",
     "shell.execute_reply": "2024-12-02T00:05:08.134119Z"
    },
    "papermill": {
     "duration": 0.035656,
     "end_time": "2024-12-02T00:05:08.137771",
     "exception": false,
     "start_time": "2024-12-02T00:05:08.102115",
     "status": "completed"
    },
    "tags": []
   },
   "outputs": [
    {
     "data": {
      "text/html": [
       "<div>\n",
       "<style scoped>\n",
       "    .dataframe tbody tr th:only-of-type {\n",
       "        vertical-align: middle;\n",
       "    }\n",
       "\n",
       "    .dataframe tbody tr th {\n",
       "        vertical-align: top;\n",
       "    }\n",
       "\n",
       "    .dataframe thead th {\n",
       "        text-align: right;\n",
       "    }\n",
       "</style>\n",
       "<table border=\"1\" class=\"dataframe\">\n",
       "  <thead>\n",
       "    <tr style=\"text-align: right;\">\n",
       "      <th></th>\n",
       "      <th>match</th>\n",
       "      <th>total_score</th>\n",
       "    </tr>\n",
       "  </thead>\n",
       "  <tbody>\n",
       "    <tr>\n",
       "      <th>14</th>\n",
       "      <td>DAL vs TB</td>\n",
       "      <td>22</td>\n",
       "    </tr>\n",
       "    <tr>\n",
       "      <th>46</th>\n",
       "      <td>DEN vs SF</td>\n",
       "      <td>21</td>\n",
       "    </tr>\n",
       "    <tr>\n",
       "      <th>64</th>\n",
       "      <td>DEN vs IND</td>\n",
       "      <td>21</td>\n",
       "    </tr>\n",
       "    <tr>\n",
       "      <th>80</th>\n",
       "      <td>CHI vs WAS</td>\n",
       "      <td>19</td>\n",
       "    </tr>\n",
       "    <tr>\n",
       "      <th>68</th>\n",
       "      <td>JAX vs HOU</td>\n",
       "      <td>19</td>\n",
       "    </tr>\n",
       "  </tbody>\n",
       "</table>\n",
       "</div>"
      ],
      "text/plain": [
       "         match  total_score\n",
       "14   DAL vs TB           22\n",
       "46   DEN vs SF           21\n",
       "64  DEN vs IND           21\n",
       "80  CHI vs WAS           19\n",
       "68  JAX vs HOU           19"
      ]
     },
     "execution_count": 38,
     "metadata": {},
     "output_type": "execute_result"
    }
   ],
   "source": [
    "total_score_games_df.sort_values(by=\"total_score\", ascending=False).tail()"
   ]
  },
  {
   "cell_type": "code",
   "execution_count": 39,
   "id": "2981a45e",
   "metadata": {
    "execution": {
     "iopub.execute_input": "2024-12-02T00:05:08.179454Z",
     "iopub.status.busy": "2024-12-02T00:05:08.178945Z",
     "iopub.status.idle": "2024-12-02T00:05:08.696459Z",
     "shell.execute_reply": "2024-12-02T00:05:08.695222Z"
    },
    "papermill": {
     "duration": 0.541106,
     "end_time": "2024-12-02T00:05:08.699229",
     "exception": false,
     "start_time": "2024-12-02T00:05:08.158123",
     "status": "completed"
    },
    "tags": []
   },
   "outputs": [
    {
     "data": {
      "image/png": "[encoded data removed]",
      "text/plain": [
       "<Figure size 2000x500 with 2 Axes>"
      ]
     },
     "metadata": {},
     "output_type": "display_data"
    }
   ],
   "source": [
    "fig, ax = plt.subplots(nrows=1, ncols=2, figsize=(20, 5))\n",
    "\n",
    "sns.barplot(x=\"total_score\", y=\"match\", data=total_score_games_df.sort_values(by='total_score', ascending=False).head(5), palette='muted', ax=ax[0])\n",
    "ax[0].set_ylabel(None)\n",
    "ax[0].set_xlabel(None)\n",
    "ax[0].set_title(\"Top total score match\", loc=\"center\", fontsize=15)\n",
    "ax[0].tick_params(axis ='y', labelsize=10)\n",
    "\n",
    "sns.barplot(x=\"total_score\", y=\"match\", data=total_score_games_df.sort_values(by='total_score', ascending=True).head(5), palette='muted', ax=ax[1])\n",
    "ax[1].set_ylabel(None)\n",
    "ax[1].set_xlabel(None)\n",
    "ax[1].invert_xaxis()\n",
    "ax[1].yaxis.set_label_position(\"right\")\n",
    "ax[1].yaxis.tick_right()\n",
    "ax[1].set_title(\"Bottom total score match\", loc=\"center\", fontsize=15)\n",
    "ax[1].tick_params(axis='y', labelsize=12)\n",
    "\n",
    "plt.show()\n",
    "fig.savefig('fig3.png')"
   ]
  },
  {
   "cell_type": "markdown",
   "id": "d21b9668",
   "metadata": {
    "papermill": {
     "duration": 0.019285,
     "end_time": "2024-12-02T00:05:08.739546",
     "exception": false,
     "start_time": "2024-12-02T00:05:08.720261",
     "status": "completed"
    },
    "tags": []
   },
   "source": [
    "**Team that wins the most**"
   ]
  },
  {
   "cell_type": "code",
   "execution_count": 40,
   "id": "22ee1d78",
   "metadata": {
    "execution": {
     "iopub.execute_input": "2024-12-02T00:05:08.781238Z",
     "iopub.status.busy": "2024-12-02T00:05:08.780768Z",
     "iopub.status.idle": "2024-12-02T00:05:08.792060Z",
     "shell.execute_reply": "2024-12-02T00:05:08.790960Z"
    },
    "papermill": {
     "duration": 0.035044,
     "end_time": "2024-12-02T00:05:08.794430",
     "exception": false,
     "start_time": "2024-12-02T00:05:08.759386",
     "status": "completed"
    },
    "tags": []
   },
   "outputs": [],
   "source": [
    "win_games_df = games_df.groupby(by='win').gameId.nunique().sort_values(ascending=False).reset_index()\n",
    "lose_games_df = games_df.groupby(by='lose').gameId.nunique().sort_values(ascending=False).reset_index()"
   ]
  },
  {
   "cell_type": "code",
   "execution_count": 41,
   "id": "efc6ac10",
   "metadata": {
    "execution": {
     "iopub.execute_input": "2024-12-02T00:05:08.836004Z",
     "iopub.status.busy": "2024-12-02T00:05:08.835559Z",
     "iopub.status.idle": "2024-12-02T00:05:09.334231Z",
     "shell.execute_reply": "2024-12-02T00:05:09.332853Z"
    },
    "papermill": {
     "duration": 0.522793,
     "end_time": "2024-12-02T00:05:09.336995",
     "exception": false,
     "start_time": "2024-12-02T00:05:08.814202",
     "status": "completed"
    },
    "tags": []
   },
   "outputs": [
    {
     "data": {
      "image/png": "[encoded data removed]",
      "text/plain": [
       "<Figure size 2000x500 with 2 Axes>"
      ]
     },
     "metadata": {},
     "output_type": "display_data"
    }
   ],
   "source": [
    "fig, ax = plt.subplots(nrows=1, ncols=2, figsize=(20, 5))\n",
    "\n",
    "sns.barplot(x=\"gameId\", y=\"win\", data=win_games_df.sort_values(by='gameId', ascending=False).head(5), palette='muted', ax=ax[0])\n",
    "ax[0].set_ylabel(None)\n",
    "ax[0].set_xlabel(None)\n",
    "ax[0].set_title(\"Top winning rate team\", loc=\"center\", fontsize=15)\n",
    "ax[0].tick_params(axis ='y', labelsize=10)\n",
    "\n",
    "sns.barplot(x=\"gameId\", y=\"win\", data=win_games_df.sort_values(by='gameId', ascending=True).head(5), palette='muted', ax=ax[1])\n",
    "ax[1].set_ylabel(None)\n",
    "ax[1].set_xlabel(None)\n",
    "ax[1].invert_xaxis()\n",
    "ax[1].yaxis.set_label_position(\"right\")\n",
    "ax[1].yaxis.tick_right()\n",
    "ax[1].set_title(\"Bottom winning rate team\", loc=\"center\", fontsize=15)\n",
    "ax[1].tick_params(axis='y', labelsize=12)\n",
    "\n",
    "plt.show()\n",
    "fig.savefig(\"fig4.png\")"
   ]
  },
  {
   "cell_type": "markdown",
   "id": "0351dc49",
   "metadata": {
    "papermill": {
     "duration": 0.02156,
     "end_time": "2024-12-02T00:05:09.382815",
     "exception": false,
     "start_time": "2024-12-02T00:05:09.361255",
     "status": "completed"
    },
    "tags": []
   },
   "source": [
    "**The team that loses the most**"
   ]
  },
  {
   "cell_type": "code",
   "execution_count": 42,
   "id": "11408a29",
   "metadata": {
    "execution": {
     "iopub.execute_input": "2024-12-02T00:05:09.427936Z",
     "iopub.status.busy": "2024-12-02T00:05:09.426465Z",
     "iopub.status.idle": "2024-12-02T00:05:09.879520Z",
     "shell.execute_reply": "2024-12-02T00:05:09.878376Z"
    },
    "papermill": {
     "duration": 0.478327,
     "end_time": "2024-12-02T00:05:09.882331",
     "exception": false,
     "start_time": "2024-12-02T00:05:09.404004",
     "status": "completed"
    },
    "tags": []
   },
   "outputs": [
    {
     "data": {
      "image/png": "[encoded data removed]",
      "text/plain": [
       "<Figure size 2000x500 with 2 Axes>"
      ]
     },
     "metadata": {},
     "output_type": "display_data"
    }
   ],
   "source": [
    "fig, ax = plt.subplots(nrows=1, ncols=2, figsize=(20, 5))\n",
    "\n",
    "sns.barplot(x=\"gameId\", y=\"lose\", data=lose_games_df.sort_values(by='gameId', ascending=False).head(5), palette='muted', ax=ax[0])\n",
    "ax[0].set_ylabel(None)\n",
    "ax[0].set_xlabel(None)\n",
    "ax[0].set_title(\"Top losing rate team\", loc=\"center\", fontsize=15)\n",
    "ax[0].tick_params(axis ='y', labelsize=10)\n",
    "\n",
    "sns.barplot(x=\"gameId\", y=\"lose\", data=lose_games_df.sort_values(by='gameId', ascending=True).head(5), palette='muted', ax=ax[1])\n",
    "ax[1].set_ylabel(None)\n",
    "ax[1].set_xlabel(None)\n",
    "ax[1].invert_xaxis()\n",
    "ax[1].yaxis.set_label_position(\"right\")\n",
    "ax[1].yaxis.tick_right()\n",
    "ax[1].set_title(\"Bottom losing rate team\", loc=\"center\", fontsize=15)\n",
    "ax[1].tick_params(axis='y', labelsize=12)\n",
    "\n",
    "plt.show()\n",
    "fig.savefig('fig5.png')"
   ]
  },
  {
   "cell_type": "markdown",
   "id": "f9af8a22",
   "metadata": {
    "papermill": {
     "duration": 0.020865,
     "end_time": "2024-12-02T00:05:09.924298",
     "exception": false,
     "start_time": "2024-12-02T00:05:09.903433",
     "status": "completed"
    },
    "tags": []
   },
   "source": [
    "**Match progress (each number of matches intense, normal, far apart)**"
   ]
  },
  {
   "cell_type": "code",
   "execution_count": 43,
   "id": "759153fb",
   "metadata": {
    "execution": {
     "iopub.execute_input": "2024-12-02T00:05:09.967640Z",
     "iopub.status.busy": "2024-12-02T00:05:09.967231Z",
     "iopub.status.idle": "2024-12-02T00:05:09.981184Z",
     "shell.execute_reply": "2024-12-02T00:05:09.979811Z"
    },
    "papermill": {
     "duration": 0.038439,
     "end_time": "2024-12-02T00:05:09.983656",
     "exception": false,
     "start_time": "2024-12-02T00:05:09.945217",
     "status": "completed"
    },
    "tags": []
   },
   "outputs": [
    {
     "data": {
      "text/html": [
       "<div>\n",
       "<style scoped>\n",
       "    .dataframe tbody tr th:only-of-type {\n",
       "        vertical-align: middle;\n",
       "    }\n",
       "\n",
       "    .dataframe tbody tr th {\n",
       "        vertical-align: top;\n",
       "    }\n",
       "\n",
       "    .dataframe thead th {\n",
       "        text-align: right;\n",
       "    }\n",
       "</style>\n",
       "<table border=\"1\" class=\"dataframe\">\n",
       "  <thead>\n",
       "    <tr style=\"text-align: right;\">\n",
       "      <th></th>\n",
       "      <th>pertandingan</th>\n",
       "      <th>gameId</th>\n",
       "    </tr>\n",
       "  </thead>\n",
       "  <tbody>\n",
       "    <tr>\n",
       "      <th>0</th>\n",
       "      <td>close_game</td>\n",
       "      <td>84</td>\n",
       "    </tr>\n",
       "    <tr>\n",
       "      <th>1</th>\n",
       "      <td>standard_contest</td>\n",
       "      <td>35</td>\n",
       "    </tr>\n",
       "    <tr>\n",
       "      <th>2</th>\n",
       "      <td>blowout</td>\n",
       "      <td>17</td>\n",
       "    </tr>\n",
       "  </tbody>\n",
       "</table>\n",
       "</div>"
      ],
      "text/plain": [
       "       pertandingan  gameId\n",
       "0        close_game      84\n",
       "1  standard_contest      35\n",
       "2           blowout      17"
      ]
     },
     "execution_count": 43,
     "metadata": {},
     "output_type": "execute_result"
    }
   ],
   "source": [
    "pertandingan_games_df = games_df.groupby(by='pertandingan').gameId.nunique().sort_values(ascending=False).reset_index()\n",
    "pertandingan_games_df"
   ]
  },
  {
   "cell_type": "code",
   "execution_count": 44,
   "id": "350b5f9a",
   "metadata": {
    "execution": {
     "iopub.execute_input": "2024-12-02T00:05:10.027686Z",
     "iopub.status.busy": "2024-12-02T00:05:10.027270Z",
     "iopub.status.idle": "2024-12-02T00:05:10.276988Z",
     "shell.execute_reply": "2024-12-02T00:05:10.275789Z"
    },
    "papermill": {
     "duration": 0.274718,
     "end_time": "2024-12-02T00:05:10.279811",
     "exception": false,
     "start_time": "2024-12-02T00:05:10.005093",
     "status": "completed"
    },
    "tags": []
   },
   "outputs": [
    {
     "data": {
      "image/png": "[encoded data removed]",
      "text/plain": [
       "<Figure size 1000x600 with 1 Axes>"
      ]
     },
     "metadata": {},
     "output_type": "display_data"
    }
   ],
   "source": [
    "fig, ax = plt.subplots(figsize=(10, 6))\n",
    "sns.barplot(x=\"pertandingan\", y=\"gameId\", data=pertandingan_games_df.sort_values(by='gameId', ascending=False), palette='muted', ax=ax)\n",
    "ax.set_ylabel(None)\n",
    "ax.set_xlabel(None)\n",
    "ax.set_title(\"JMatch progress\", loc=\"center\", fontsize=15)\n",
    "ax.tick_params(axis ='y', labelsize=10)\n",
    "\n",
    "plt.show()\n",
    "fig.savefig('fig6.png')"
   ]
  },
  {
   "cell_type": "markdown",
   "id": "eb41fc13",
   "metadata": {
    "papermill": {
     "duration": 0.021836,
     "end_time": "2024-12-02T00:05:10.322987",
     "exception": false,
     "start_time": "2024-12-02T00:05:10.301151",
     "status": "completed"
    },
    "tags": []
   },
   "source": [
    "# SUMMARY"
   ]
  },
  {
   "cell_type": "code",
   "execution_count": 45,
   "id": "acc9a446",
   "metadata": {
    "execution": {
     "iopub.execute_input": "2024-12-02T00:05:10.368339Z",
     "iopub.status.busy": "2024-12-02T00:05:10.367905Z",
     "iopub.status.idle": "2024-12-02T00:05:10.376358Z",
     "shell.execute_reply": "2024-12-02T00:05:10.374988Z"
    },
    "papermill": {
     "duration": 0.034542,
     "end_time": "2024-12-02T00:05:10.378672",
     "exception": false,
     "start_time": "2024-12-02T00:05:10.344130",
     "status": "completed"
    },
    "tags": []
   },
   "outputs": [
    {
     "data": {
      "image/png": "[encoded data removed]",
      "text/plain": [
       "<IPython.core.display.Image object>"
      ]
     },
     "metadata": {},
     "output_type": "display_data"
    }
   ],
   "source": [
    "from IPython.display import Image, display\n",
    "display(Image(\"fig1.png\"))"
   ]
  },
  {
   "cell_type": "markdown",
   "id": "84f0ada7",
   "metadata": {
    "papermill": {
     "duration": 0.021796,
     "end_time": "2024-12-02T00:05:10.422576",
     "exception": false,
     "start_time": "2024-12-02T00:05:10.400780",
     "status": "completed"
    },
    "tags": []
   },
   "source": [
    "Based on the image, it can be concluded that the match with the highest score was won by the DAL team with a score of 49. Meanwhile, the lowest scores were won by three teams, namely DET, LV, and IND with a score of zero."
   ]
  },
  {
   "cell_type": "code",
   "execution_count": 46,
   "id": "85f55558",
   "metadata": {
    "execution": {
     "iopub.execute_input": "2024-12-02T00:05:10.468880Z",
     "iopub.status.busy": "2024-12-02T00:05:10.467814Z",
     "iopub.status.idle": "2024-12-02T00:05:10.476795Z",
     "shell.execute_reply": "2024-12-02T00:05:10.475550Z"
    },
    "papermill": {
     "duration": 0.034569,
     "end_time": "2024-12-02T00:05:10.478985",
     "exception": false,
     "start_time": "2024-12-02T00:05:10.444416",
     "status": "completed"
    },
    "tags": []
   },
   "outputs": [
    {
     "data": {
      "image/png": "[encoded data removed]",
      "text/plain": [
       "<IPython.core.display.Image object>"
      ]
     },
     "metadata": {},
     "output_type": "display_data"
    }
   ],
   "source": [
    "display(Image(\"fig2.png\"))"
   ]
  },
  {
   "cell_type": "markdown",
   "id": "827df57a",
   "metadata": {
    "papermill": {
     "duration": 0.023263,
     "end_time": "2024-12-02T00:05:10.524968",
     "exception": false,
     "start_time": "2024-12-02T00:05:10.501705",
     "status": "completed"
    },
    "tags": []
   },
   "source": [
    "Based on the image, it can be concluded that the highest and lowest accumulated scores from all matches were occupied by teams KC (243) and PIT (120)."
   ]
  },
  {
   "cell_type": "code",
   "execution_count": 47,
   "id": "3e9dfc8b",
   "metadata": {
    "execution": {
     "iopub.execute_input": "2024-12-02T00:05:10.571829Z",
     "iopub.status.busy": "2024-12-02T00:05:10.570820Z",
     "iopub.status.idle": "2024-12-02T00:05:10.579312Z",
     "shell.execute_reply": "2024-12-02T00:05:10.578271Z"
    },
    "papermill": {
     "duration": 0.03462,
     "end_time": "2024-12-02T00:05:10.581823",
     "exception": false,
     "start_time": "2024-12-02T00:05:10.547203",
     "status": "completed"
    },
    "tags": []
   },
   "outputs": [
    {
     "data": {
      "image/png": "[encoded data removed]",
      "text/plain": [
       "<IPython.core.display.Image object>"
      ]
     },
     "metadata": {},
     "output_type": "display_data"
    }
   ],
   "source": [
    "display(Image(\"fig3.png\"))"
   ]
  },
  {
   "cell_type": "markdown",
   "id": "ee7c91c1",
   "metadata": {
    "papermill": {
     "duration": 0.022135,
     "end_time": "2024-12-02T00:05:10.626593",
     "exception": false,
     "start_time": "2024-12-02T00:05:10.604458",
     "status": "completed"
    },
    "tags": []
   },
   "source": [
    "Based on the picture, it can be concluded that the match with the highest score was between DET vs SEA with a total score of 93 points. While the lowest total score occurred in the match between JAX vs HOU and CHI vs WAS with a score of 19 points each."
   ]
  },
  {
   "cell_type": "code",
   "execution_count": 48,
   "id": "72f0def8",
   "metadata": {
    "execution": {
     "iopub.execute_input": "2024-12-02T00:05:10.673268Z",
     "iopub.status.busy": "2024-12-02T00:05:10.672786Z",
     "iopub.status.idle": "2024-12-02T00:05:10.681059Z",
     "shell.execute_reply": "2024-12-02T00:05:10.679744Z"
    },
    "papermill": {
     "duration": 0.034279,
     "end_time": "2024-12-02T00:05:10.683143",
     "exception": false,
     "start_time": "2024-12-02T00:05:10.648864",
     "status": "completed"
    },
    "tags": []
   },
   "outputs": [
    {
     "data": {
      "image/png": "[encoded data removed]",
      "text/plain": [
       "<IPython.core.display.Image object>"
      ]
     },
     "metadata": {},
     "output_type": "display_data"
    }
   ],
   "source": [
    "display(Image('fig4.png'))"
   ]
  },
  {
   "cell_type": "markdown",
   "id": "00344672",
   "metadata": {
    "papermill": {
     "duration": 0.023444,
     "end_time": "2024-12-02T00:05:10.730041",
     "exception": false,
     "start_time": "2024-12-02T00:05:10.706597",
     "status": "completed"
    },
    "tags": []
   },
   "source": [
    "Based on the image, it can be concluded that PHI is the team that wins the most with a total of 8 wins. While HOU only won one match, making it the team with the fewest wins."
   ]
  },
  {
   "cell_type": "code",
   "execution_count": 49,
   "id": "a0bec06e",
   "metadata": {
    "execution": {
     "iopub.execute_input": "2024-12-02T00:05:10.779451Z",
     "iopub.status.busy": "2024-12-02T00:05:10.778513Z",
     "iopub.status.idle": "2024-12-02T00:05:10.786315Z",
     "shell.execute_reply": "2024-12-02T00:05:10.785174Z"
    },
    "papermill": {
     "duration": 0.035289,
     "end_time": "2024-12-02T00:05:10.788789",
     "exception": false,
     "start_time": "2024-12-02T00:05:10.753500",
     "status": "completed"
    },
    "tags": []
   },
   "outputs": [
    {
     "data": {
      "image/png": "[encoded data removed]",
      "text/plain": [
       "<IPython.core.display.Image object>"
      ]
     },
     "metadata": {},
     "output_type": "display_data"
    }
   ],
   "source": [
    "display(Image('fig5.png'))"
   ]
  },
  {
   "cell_type": "markdown",
   "id": "42969fd7",
   "metadata": {
    "papermill": {
     "duration": 0.022949,
     "end_time": "2024-12-02T00:05:10.835116",
     "exception": false,
     "start_time": "2024-12-02T00:05:10.812167",
     "status": "completed"
    },
    "tags": []
   },
   "source": [
    "Based on the picture, it can be concluded that CAR is the team that loses the most with seven defeats. While MIN is the team with the least total defeat, which is one defeat."
   ]
  },
  {
   "cell_type": "code",
   "execution_count": 50,
   "id": "9b685277",
   "metadata": {
    "execution": {
     "iopub.execute_input": "2024-12-02T00:05:10.882955Z",
     "iopub.status.busy": "2024-12-02T00:05:10.882531Z",
     "iopub.status.idle": "2024-12-02T00:05:10.890788Z",
     "shell.execute_reply": "2024-12-02T00:05:10.889589Z"
    },
    "papermill": {
     "duration": 0.035221,
     "end_time": "2024-12-02T00:05:10.893266",
     "exception": false,
     "start_time": "2024-12-02T00:05:10.858045",
     "status": "completed"
    },
    "tags": []
   },
   "outputs": [
    {
     "data": {
      "image/png": "[encoded data removed]",
      "text/plain": [
       "<IPython.core.display.Image object>"
      ]
     },
     "metadata": {},
     "output_type": "display_data"
    }
   ],
   "source": [
    "display(Image('fig6.png'))"
   ]
  },
  {
   "cell_type": "markdown",
   "id": "ebb501e3",
   "metadata": {
    "papermill": {
     "duration": 0.023309,
     "end_time": "2024-12-02T00:05:10.940396",
     "exception": false,
     "start_time": "2024-12-02T00:05:10.917087",
     "status": "completed"
    },
    "tags": []
   },
   "source": [
    "This graph shows that there were 84 close_games, 35 standard_contests, and 17 blowouts. 61% of the games were close_games and only 0.12% were blowouts. It can be concluded that all the games are worth watching because of the large percentage of close_games."
   ]
  }
 ],
 "metadata": {
  "kaggle": {
   "accelerator": "none",
   "dataSources": [
    {
     "databundleVersionId": 9816926,
     "sourceId": 84175,
     "sourceType": "competition"
    }
   ],
   "dockerImageVersionId": 30786,
   "isGpuEnabled": false,
   "isInternetEnabled": true,
   "language": "python",
   "sourceType": "notebook"
  },
  "kernelspec": {
   "display_name": "Python 3",
   "language": "python",
   "name": "python3"
  },
  "language_info": {
   "codemirror_mode": {
    "name": "ipython",
    "version": 3
   },
   "file_extension": ".py",
   "mimetype": "text/x-python",
   "name": "python",
   "nbconvert_exporter": "python",
   "pygments_lexer": "ipython3",
   "version": "3.10.14"
  },
  "papermill": {
   "default_parameters": {},
   "duration": 15.773187,
   "end_time": "2024-12-02T00:05:11.787511",
   "environment_variables": {},
   "exception": null,
   "input_path": "__notebook__.ipynb",
   "output_path": "__notebook__.ipynb",
   "parameters": {},
   "start_time": "2024-12-02T00:04:56.014324",
   "version": "2.6.0"
  }
 },
 "nbformat": 4,
 "nbformat_minor": 5
}
